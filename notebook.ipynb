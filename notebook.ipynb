{
 "cells": [
  {
   "cell_type": "code",
   "execution_count": 1,
   "id": "010e1081",
   "metadata": {},
   "outputs": [
    {
     "name": "stderr",
     "output_type": "stream",
     "text": [
      "/Users/nursulusagimbayeva/Downloads/RAG/rag_venv/lib/python3.11/site-packages/tqdm/auto.py:21: TqdmWarning: IProgress not found. Please update jupyter and ipywidgets. See https://ipywidgets.readthedocs.io/en/stable/user_install.html\n",
      "  from .autonotebook import tqdm as notebook_tqdm\n"
     ]
    }
   ],
   "source": [
    "import numpy as np\n",
    "import json\n",
    "import time\n",
    "import pandas as pd\n",
    "from langchain.text_splitter import RecursiveCharacterTextSplitter\n",
    "from langchain.document_loaders.pdf import PyPDFDirectoryLoader\n",
    "from sentence_transformers import SentenceTransformer\n",
    "import chromadb\n",
    "from tqdm import tqdm"
   ]
  },
  {
   "cell_type": "code",
   "execution_count": 127,
   "id": "4a466525",
   "metadata": {},
   "outputs": [],
   "source": [
    "static_profile_info = ''''Nursulu Sagimbayeva. \n",
    "Munich/ Saarbrücken, Germany. Open to relocation. \n",
    "Profile: I am a Master’s student in my last year, with background in the domains of NLP, Data Science, Societal Computing, and Mechanistic Interpretability. I am looking for an internship to gain insight in the industry while working on challenging NLP/AI topics.\n",
    "Work experience\n",
    "•Internship Financial Assets & Solutions Data Analytics November 2024-May 2025\\nMunich RE Munich, Germany.\n",
    "•Research Assistant June 2023-Dec 2024. Interdisciplinary Institute of Societal Computing, Saarland Informatik Campus Saarbrücken, Germany.\n",
    "•Technical Content Writer July 2022-July 2023 at Hasty.ai (CloudFactory) Berlin, Germany (remote)\n",
    "Education\n",
    "•M.Sc. in Natural Language Processing, current GPA: 1.5 (best: 1.0) \n",
    "October 2022-currently\\nSaarland University Saarbrücken, Germany\n",
    "•B.A. in Translation Studies, GPA: 3.75/4.0, German: 1.38 2018-2022\n",
    "Al-Farabi Kazakh National University Almaty, Kazakhstan\n",
    "'''"
   ]
  },
  {
   "cell_type": "markdown",
   "id": "72de53db",
   "metadata": {},
   "source": [
    "### Extract PDF data "
   ]
  },
  {
   "cell_type": "code",
   "execution_count": 9,
   "id": "e474a51f",
   "metadata": {},
   "outputs": [],
   "source": [
    "from pypdf import PdfReader"
   ]
  },
  {
   "cell_type": "code",
   "execution_count": 10,
   "id": "c8469575",
   "metadata": {},
   "outputs": [],
   "source": [
    "# Open and read the PDF\n",
    "pdf_path = \"CV_2025.pdf\"\n",
    "reader = PdfReader(pdf_path)\n",
    "\n",
    "# Extract text from all pages\n",
    "text = \"\\n\".join([page.extract_text() for page in reader.pages if page.extract_text()])"
   ]
  },
  {
   "cell_type": "code",
   "execution_count": 12,
   "id": "61fe5bd3",
   "metadata": {},
   "outputs": [
    {
     "data": {
      "text/plain": [
       "'Nursulu Sagimbayeva /envel⌢penurs.sagimbayeva@gmail.com\\nMunich/ Saarbrücken, Germany /githubnursaltyn.github.io\\nOpen to relocation /linkedinLinkedIn Profile\\n♂phone+4917674754101\\nProfile: I am a Master’s student in my last year, with background in\\nthe domains of NLP, Data Science, Societal Computing, and\\nMechanistic Interpretability. I am looking for an internship to gain\\ninsight in the industry while working on challenging NLP/AI topics.\\n/mediumMedium\\nLibraries: NumPy, Pandas, Scikit-Learn, Matplotlib, PyTorch, Transformers, Streamlit, nltk, Spacy, Gensim,\\nplotly, BeautifulSoup, GeoPandas, HTML, CSS;Programming languages: Python, R\\nTools: Git, LaTeX, VSCode, HuggingFace, Docker, PowerBI\\nExperience: Neural Networks• Machine Learning• Computational Linguistics• Statistics • Statistical\\nNatural Language Processing• Machine Translation• Text Mining and Social Media Mining• Trustworthy\\nMachine Learning\\nLanguages: English (C1)• Russian (native speaker)• German (B2)• Polish (B2)• Kazakh (B1)\\nWork experience\\n•Internship Financial Assets & Solutions Data Analytics November 2024-May 2025\\nMunich RE Munich, Germany\\n– Developed a system forautomatic news monitoring and financial advisoryfor alternative asset classes\\nusing LLMs and PowerBI visualizations\\n– Automated existing toolsfor a structured analysis of alternative investments\\n– Data intake from in-house databases and integration of third party data sources including retrieval of\\nmarket data fromunstructured data sourcesvia LLMs\\n– Participated in projects on investment topics\\n– Skills: LLMs, RAG, PowerBI, Data Analysis Automation, Machine Learning, Capital Markets\\n•Research Assistant June 2023-present\\nInterdisciplinary Institute of Societal Computing, Saarland Informatik Campus Saarbrücken, Germany\\n– Initiated a project on detecting inconsistencies and contradictions in politicians’ speeches in real time\\nusing LLMs;\\nsupervised byProf. Dr. Ingmar Weber.Data sources: websites, social media, YouTube\\n– Collected anoriginal dataseton political contradictions (work under review for ACL-2025\\n– Proposedapipelineto storeparty’sdataand comparenewtextswiththedatabasetodetectcontradictions\\n– Skills: Fine-Tuning, Pre-training LLMs, Clustering, Scraping, Word2Vec, GPT4 API, Data annotation,\\nCrowdsourcing, Academic writing, Presentation\\n•Technical Content Writer July 2022-July 2023\\nHasty.ai (CloudFactory) Berlin, Germany (remote)\\n– Created and maintained documentation for an AI-powered image annotation platform\\n– Wrote articles onComputer Vision/Machine Learning/Neural Networks\\n– Pushed ML-Wiki articles on ML/DS metrics totop-3 results in Google search\\nEducation\\n•M.Sc. in Natural Language Processing, current GPA: 1.5 (best: 1.0) October 2022-currently\\nSaarland University Saarbrücken, Germany\\n•B.A. in Translation Studies, GPA: 3.75/4.0, German: 1.38 2018-2022\\nAl-Farabi Kazakh National University Almaty, Kazakhstan\\n– Thesis topic: exploring the effect of features of user-generated content in the Kazakh language on the\\nperceived quality of machine translation in Kazakh-Russian language pair. Grade: 98/100\\n•Exchange student Oct 21 - Feb 22, Oct 19 - Feb 20\\nUniversity of Warsaw Warsaw, Poland\\nPublications\\n• Koebe, T., del Villar, Z., Nutakki, B.,Sagimbayeva, N., Weber, I.Unveiling local patterns of child\\npornography consumption in France using Tor.Published inNature: Humanities and social sciences\\ncommunications 11, 807(2024). https://doi.org/10.1057/s41599-024-03343-4\\n• Karolina Kuligowska, Agnieszka Repka,Nursulu Sagimbayeva,\\nText Mining in overcoming disinformation: human cognitive security, [in:] Paulina Szymczyk, Joanna\\nKozłowska (eds.), Education and society - an interdisciplinary analysis of selected issues, Scientific\\nPublisher TYGIEL, Poland - Lublin 2022 (ISBN: 978-83-67104-44-9)\\nProjects\\n• YouNameIt! A chatbot assisting patients with aphasia in training their memory. Increased accuracy\\nfrom 39% to 92% on a custom dataset\\nSkills: Fine-tuning • Prompt-tuning LLMs• Data collection• UX (Streamlit)• Chatbots • User\\nInteraction planning\\n• Brain-LLM alignment:Estimating variance in GPT model explained by different brain regions\\nSkills: Ridge regression• Bootstrapping • Noise ceiling estimation• Work with fMRI data (reading and\\nlistening) • LLMs\\n• All you need is love?Exploring the most popular Spotify song topics around the world\\nSkills: LDA topic modeling• Data processing• Scraping • Working with APIs• Data visualization\\n• Mental health in literature:Diagnosing literary characters with mental disorders according to ICD-10\\nSkills: Prompt optimization• Data collection• Data visualization• Streamlit\\n• GoTogether: A restaurant recommendation app that considers preferences of 2+ users\\nSkills: Recommendation systems• User interviewing• Data Collection• Streamlit\\n• Brain-Controlled Kitchen:a Brain-Computer Interface to navigate through the recipe using Imagined\\nSpeech\\nSkills: EEG reading• EEG data processing• UI • User Interaction planning\\nActivities\\n–\\nUniversity Open day June 2024\\nPresenting a poster on our research (automatic inconsistency detection) University of Saarland\\n–\\nOpening of the Interdisciplinary Institute for Societal Computing September 2023\\nPresenting a poster on our research (semantic shift detection) University of Saarland\\n–\\nTaCoS 2023 (international student conference on Computational Linguistics) July 2023\\nGiving a talk about my project on topic modeling in songs University of Düsseldorf\\n–\\nSTAL-2023: Slurring Terms Across Languages June 2023\\nPresenting my essay and venturing new hypotheses on slur reclamations Ecole Normale Supérieure, Paris\\nAwards\\n• 2023-2024, 2024-2025: Deutschlandstipendiumfor high-achieving students (acceptance rate in\\n2023-2025: 16%)\\n• 2023: Best paper award at the NetMob data Challenge 2023.\\n• 2021-22, 2019-20: Academic exchange scholarship from the Ministry of Education and Culture (Republic\\nof Kazakhstan)\\n• 2018-2022: Winner, finalist, and semi-finalist of 20+ international and local debate tournaments\\n(English and Russian leagues); Chief Adjudicator/judge at local and national tournaments\\n• 2018: Winner of SDU nation-wide Olympiad for high school students in the section of English and\\nWorld History'"
      ]
     },
     "execution_count": 12,
     "metadata": {},
     "output_type": "execute_result"
    }
   ],
   "source": [
    "text"
   ]
  },
  {
   "cell_type": "code",
   "execution_count": 13,
   "id": "95f472e8",
   "metadata": {},
   "outputs": [],
   "source": [
    "metadata = reader.metadata"
   ]
  },
  {
   "cell_type": "code",
   "execution_count": 14,
   "id": "67b1a5cb",
   "metadata": {},
   "outputs": [
    {
     "data": {
      "text/plain": [
       "{'/Author': '',\n",
       " '/CreationDate': 'D:20250122220627Z',\n",
       " '/Creator': 'LaTeX with hyperref',\n",
       " '/Keywords': '',\n",
       " '/ModDate': 'D:20250122220627Z',\n",
       " '/PTEX.Fullbanner': 'This is pdfTeX, Version 3.141592653-2.6-1.40.26 (TeX Live 2024) kpathsea version 6.4.0',\n",
       " '/Producer': 'pdfTeX-1.40.26',\n",
       " '/Subject': '',\n",
       " '/Title': '',\n",
       " '/Trapped': '/False'}"
      ]
     },
     "execution_count": 14,
     "metadata": {},
     "output_type": "execute_result"
    }
   ],
   "source": [
    "metadata"
   ]
  },
  {
   "cell_type": "markdown",
   "id": "91a1ec99",
   "metadata": {},
   "source": [
    "TODO: try to extract metadata about different CV parts"
   ]
  },
  {
   "cell_type": "markdown",
   "id": "f51b3302",
   "metadata": {},
   "source": [
    "### Get the embeddings"
   ]
  },
  {
   "cell_type": "code",
   "execution_count": 15,
   "id": "b82c74fe",
   "metadata": {},
   "outputs": [],
   "source": [
    "from huggingface_hub import login\n",
    "\n",
    "login(\"\") # Your API Key"
   ]
  },
  {
   "cell_type": "markdown",
   "id": "cb3d84b2",
   "metadata": {},
   "source": [
    "Explore other SentenceTransformer models:\n",
    "https://huggingface.co/models"
   ]
  },
  {
   "cell_type": "code",
   "execution_count": 16,
   "id": "cf005754",
   "metadata": {},
   "outputs": [],
   "source": [
    "embedding_model = SentenceTransformer(\"BAAI/bge-m3\")"
   ]
  },
  {
   "cell_type": "code",
   "execution_count": 17,
   "id": "26a53a75",
   "metadata": {},
   "outputs": [],
   "source": [
    "def get_embedding(text: str) -> list[float]:\n",
    "    if not text.strip():\n",
    "        print(\"Attempted to get embedding for empty text.\")\n",
    "        return []\n",
    "\n",
    "    embedding = embedding_model.encode(text)\n",
    "\n",
    "    return embedding.tolist()"
   ]
  },
  {
   "cell_type": "markdown",
   "id": "0456404f",
   "metadata": {},
   "source": [
    "### Chunk the data"
   ]
  },
  {
   "cell_type": "code",
   "execution_count": 25,
   "id": "18d9d5ca",
   "metadata": {},
   "outputs": [
    {
     "name": "stderr",
     "output_type": "stream",
     "text": [
      "100%|██████████| 1/1 [00:03<00:00,  3.35s/it]\n"
     ]
    }
   ],
   "source": [
    "# Split the document into chunks\n",
    "text_splitter = RecursiveCharacterTextSplitter(\n",
    "    separators=['\\n', '.', '– ', '• ', ' ', ''], #order matters\n",
    "    chunk_size=150,\n",
    "    chunk_overlap=50\n",
    ")\n",
    "\n",
    "# Create chunks of the document content\n",
    "chunks = []\n",
    "last_key = 0\n",
    "for doc in tqdm([text]):\n",
    "    doc_chunks = text_splitter.split_text(doc)\n",
    "    for j in range(len(doc_chunks)):\n",
    "        chunks.append({f'id': f\"id{last_key}\",\n",
    "                       'content': doc_chunks[j],\n",
    "                       'embedding': get_embedding(doc_chunks[j]),\n",
    "                       })\n",
    "        last_key += 1\n",
    " \n"
   ]
  },
  {
   "cell_type": "code",
   "execution_count": 26,
   "id": "8e3482ee",
   "metadata": {},
   "outputs": [
    {
     "data": {
      "text/plain": [
       "['Nursulu Sagimbayeva /envel⌢penurs.sagimbayeva@gmail.com\\nMunich/ Saarbrücken, Germany /githubnursaltyn.github.io',\n",
       " 'Open to relocation /linkedinLinkedIn Profile\\n♂phone+4917674754101\\nProfile: I am a Master’s student in my last year, with background in',\n",
       " 'the domains of NLP, Data Science, Societal Computing, and\\nMechanistic Interpretability. I am looking for an internship to gain',\n",
       " 'insight in the industry while working on challenging NLP/AI topics.\\n/mediumMedium',\n",
       " '/mediumMedium\\nLibraries: NumPy, Pandas, Scikit-Learn, Matplotlib, PyTorch, Transformers, Streamlit, nltk, Spacy, Gensim,',\n",
       " 'plotly, BeautifulSoup, GeoPandas, HTML, CSS;Programming languages: Python, R\\nTools: Git, LaTeX, VSCode, HuggingFace, Docker, PowerBI',\n",
       " 'Experience: Neural Networks• Machine Learning• Computational Linguistics• Statistics • Statistical',\n",
       " 'Natural Language Processing• Machine Translation• Text Mining and Social Media Mining• Trustworthy\\nMachine Learning',\n",
       " 'Machine Learning\\nLanguages: English (C1)• Russian (native speaker)• German (B2)• Polish (B2)• Kazakh (B1)\\nWork experience',\n",
       " 'Work experience\\n•Internship Financial Assets & Solutions Data Analytics November 2024-May 2025\\nMunich RE Munich, Germany',\n",
       " 'Munich RE Munich, Germany\\n– Developed a system forautomatic news monitoring and financial advisoryfor alternative asset classes',\n",
       " 'using LLMs and PowerBI visualizations\\n– Automated existing toolsfor a structured analysis of alternative investments',\n",
       " '– Data intake from in-house databases and integration of third party data sources including retrieval of',\n",
       " 'market data fromunstructured data sourcesvia LLMs\\n– Participated in projects on investment topics',\n",
       " '– Participated in projects on investment topics\\n– Skills: LLMs, RAG, PowerBI, Data Analysis Automation, Machine Learning, Capital Markets',\n",
       " '•Research Assistant June 2023-present\\nInterdisciplinary Institute of Societal Computing, Saarland Informatik Campus Saarbrücken, Germany',\n",
       " '– Initiated a project on detecting inconsistencies and contradictions in politicians’ speeches in real time\\nusing LLMs;',\n",
       " 'using LLMs;\\nsupervised byProf. Dr. Ingmar Weber.Data sources: websites, social media, YouTube',\n",
       " '– Collected anoriginal dataseton political contradictions (work under review for ACL-2025',\n",
       " '– Proposedapipelineto storeparty’sdataand comparenewtextswiththedatabasetodetectcontradictions',\n",
       " '– Skills: Fine-Tuning, Pre-training LLMs, Clustering, Scraping, Word2Vec, GPT4 API, Data annotation,\\nCrowdsourcing, Academic writing, Presentation',\n",
       " 'Crowdsourcing, Academic writing, Presentation\\n•Technical Content Writer July 2022-July 2023\\nHasty.ai (CloudFactory) Berlin, Germany (remote)',\n",
       " 'Hasty.ai (CloudFactory) Berlin, Germany (remote)\\n– Created and maintained documentation for an AI-powered image annotation platform',\n",
       " '– Wrote articles onComputer Vision/Machine Learning/Neural Networks\\n– Pushed ML-Wiki articles on ML/DS metrics totop-3 results in Google search',\n",
       " 'Education\\n•M.Sc. in Natural Language Processing, current GPA: 1.5 (best: 1.0) October 2022-currently\\nSaarland University Saarbrücken, Germany',\n",
       " 'Saarland University Saarbrücken, Germany\\n•B.A. in Translation Studies, GPA: 3.75/4.0, German: 1.38 2018-2022',\n",
       " 'Al-Farabi Kazakh National University Almaty, Kazakhstan',\n",
       " '– Thesis topic: exploring the effect of features of user-generated content in the Kazakh language on the',\n",
       " 'perceived quality of machine translation in Kazakh-Russian language pair. Grade: 98/100\\n•Exchange student Oct 21 - Feb 22, Oct 19 - Feb 20',\n",
       " 'University of Warsaw Warsaw, Poland\\nPublications\\n• Koebe, T., del Villar, Z., Nutakki, B.,Sagimbayeva, N., Weber, I.Unveiling local patterns of child',\n",
       " 'pornography consumption in France using Tor.Published inNature: Humanities and social sciences',\n",
       " 'communications 11, 807(2024). https://doi.org/10.1057/s41599-024-03343-4\\n• Karolina Kuligowska, Agnieszka Repka,Nursulu Sagimbayeva,',\n",
       " 'Text Mining in overcoming disinformation: human cognitive security, [in:] Paulina Szymczyk, Joanna',\n",
       " 'Kozłowska (eds.), Education and society - an interdisciplinary analysis of selected issues, Scientific',\n",
       " 'Publisher TYGIEL, Poland - Lublin 2022 (ISBN: 978-83-67104-44-9)\\nProjects',\n",
       " 'Projects\\n• YouNameIt! A chatbot assisting patients with aphasia in training their memory. Increased accuracy\\nfrom 39% to 92% on a custom dataset',\n",
       " 'from 39% to 92% on a custom dataset\\nSkills: Fine-tuning • Prompt-tuning LLMs• Data collection• UX (Streamlit)• Chatbots • User\\nInteraction planning',\n",
       " 'Interaction planning\\n• Brain-LLM alignment:Estimating variance in GPT model explained by different brain regions',\n",
       " 'Skills: Ridge regression• Bootstrapping • Noise ceiling estimation• Work with fMRI data (reading and\\nlistening) • LLMs',\n",
       " 'listening) • LLMs\\n• All you need is love?Exploring the most popular Spotify song topics around the world',\n",
       " 'Skills: LDA topic modeling• Data processing• Scraping • Working with APIs• Data visualization',\n",
       " '• Mental health in literature:Diagnosing literary characters with mental disorders according to ICD-10',\n",
       " 'Skills: Prompt optimization• Data collection• Data visualization• Streamlit',\n",
       " '• GoTogether: A restaurant recommendation app that considers preferences of 2+ users',\n",
       " 'Skills: Recommendation systems• User interviewing• Data Collection• Streamlit',\n",
       " '• Brain-Controlled Kitchen:a Brain-Computer Interface to navigate through the recipe using Imagined\\nSpeech',\n",
       " 'Speech\\nSkills: EEG reading• EEG data processing• UI • User Interaction planning\\nActivities\\n–\\nUniversity Open day June 2024',\n",
       " 'Activities\\n–\\nUniversity Open day June 2024\\nPresenting a poster on our research (automatic inconsistency detection) University of Saarland\\n–',\n",
       " '–\\nOpening of the Interdisciplinary Institute for Societal Computing September 2023',\n",
       " 'Presenting a poster on our research (semantic shift detection) University of Saarland\\n–',\n",
       " '–\\nTaCoS 2023 (international student conference on Computational Linguistics) July 2023',\n",
       " 'Giving a talk about my project on topic modeling in songs University of Düsseldorf\\n–\\nSTAL-2023: Slurring Terms Across Languages June 2023',\n",
       " 'Presenting my essay and venturing new hypotheses on slur reclamations Ecole Normale Supérieure, Paris\\nAwards',\n",
       " 'Awards\\n• 2023-2024, 2024-2025: Deutschlandstipendiumfor high-achieving students (acceptance rate in\\n2023-2025: 16%)',\n",
       " '2023-2025: 16%)\\n• 2023: Best paper award at the NetMob data Challenge 2023.',\n",
       " '• 2021-22, 2019-20: Academic exchange scholarship from the Ministry of Education and Culture (Republic\\nof Kazakhstan)',\n",
       " 'of Kazakhstan)\\n• 2018-2022: Winner, finalist, and semi-finalist of 20+ international and local debate tournaments',\n",
       " '(English and Russian leagues); Chief Adjudicator/judge at local and national tournaments',\n",
       " '• 2018: Winner of SDU nation-wide Olympiad for high school students in the section of English and\\nWorld History']"
      ]
     },
     "execution_count": 26,
     "metadata": {},
     "output_type": "execute_result"
    }
   ],
   "source": [
    "[el['content'] for el in chunks]"
   ]
  },
  {
   "cell_type": "markdown",
   "id": "71be7e7a",
   "metadata": {},
   "source": [
    "#### Create a vector base"
   ]
  },
  {
   "cell_type": "code",
   "execution_count": 27,
   "id": "60cfdc60",
   "metadata": {},
   "outputs": [
    {
     "data": {
      "text/plain": [
       "True"
      ]
     },
     "execution_count": 27,
     "metadata": {},
     "output_type": "execute_result"
    }
   ],
   "source": [
    "client = chromadb.PersistentClient(path=\"chroma_tmp\", settings=chromadb.Settings(allow_reset=True))\n",
    "client.reset()"
   ]
  },
  {
   "cell_type": "code",
   "execution_count": 83,
   "id": "dc990d6e",
   "metadata": {},
   "outputs": [],
   "source": [
    "cv_collection = client.create_collection(\n",
    "    name=\"CV_2025\",\n",
    "    metadata={\"hnsw:space\": \"cosine\"}\n",
    ")"
   ]
  },
  {
   "cell_type": "code",
   "execution_count": 85,
   "id": "c7c1fe75",
   "metadata": {},
   "outputs": [],
   "source": [
    "for i in range(len(chunks)):\n",
    "    cv_collection.add(\n",
    "        documents=chunks[i]['content'],\n",
    "        ids=chunks[i][\"id\"],\n",
    "        embeddings=chunks[i][\"embedding\"]\n",
    "    )"
   ]
  },
  {
   "cell_type": "markdown",
   "id": "46745cf2",
   "metadata": {},
   "source": [
    "### Get data about job postings"
   ]
  },
  {
   "cell_type": "code",
   "execution_count": 32,
   "id": "963ea6d2",
   "metadata": {},
   "outputs": [],
   "source": [
    "import requests"
   ]
  },
  {
   "cell_type": "code",
   "execution_count": 33,
   "id": "5cf91f04",
   "metadata": {},
   "outputs": [],
   "source": [
    "url = \"https://www.arbeitnow.com/api/job-board-api\"\n",
    "\n",
    "payload={}\n",
    "headers = {}\n",
    "\n",
    "response = requests.request(\"GET\", url, headers=headers, data=payload)"
   ]
  },
  {
   "cell_type": "code",
   "execution_count": 40,
   "id": "69b779ce",
   "metadata": {},
   "outputs": [],
   "source": [
    "response = json.loads(response.text)"
   ]
  },
  {
   "cell_type": "code",
   "execution_count": 45,
   "id": "6bbc5081",
   "metadata": {},
   "outputs": [
    {
     "data": {
      "text/plain": [
       "dict_keys(['data', 'links', 'meta'])"
      ]
     },
     "execution_count": 45,
     "metadata": {},
     "output_type": "execute_result"
    }
   ],
   "source": [
    "response.keys()"
   ]
  },
  {
   "cell_type": "code",
   "execution_count": 46,
   "id": "895c5dba",
   "metadata": {},
   "outputs": [
    {
     "data": {
      "text/plain": [
       "{'first': 'https://www.arbeitnow.com/api/job-board-api?page=1',\n",
       " 'last': None,\n",
       " 'prev': None,\n",
       " 'next': 'https://www.arbeitnow.com/api/job-board-api?page=2'}"
      ]
     },
     "execution_count": 46,
     "metadata": {},
     "output_type": "execute_result"
    }
   ],
   "source": [
    "response['links']"
   ]
  },
  {
   "cell_type": "markdown",
   "id": "0c59ec19",
   "metadata": {},
   "source": [
    "### Step 1: find most suitable recommendations"
   ]
  },
  {
   "cell_type": "code",
   "execution_count": 49,
   "id": "791190d0",
   "metadata": {},
   "outputs": [
    {
     "data": {
      "text/plain": [
       "{'slug': 'embedded-software-engineer-munich-350718',\n",
       " 'company_name': 'Avo Intelligence',\n",
       " 'title': 'Embedded Software Engineer',\n",
       " 'description': '<p>We are seeking an <strong>Edge AI &#x26; Embedded ML Engineer</strong> to develop <strong>high-performance, low-latency AI models</strong> for deployment on resource-constrained devices. This role involves optimizing deep learning models for <strong>real-time inference on edge hardware</strong>, ensuring efficiency in power-limited environments.</p>\\n<p>If you have experience with <strong>TinyML, on-device AI, and embedded neural networks</strong>, this is the perfect opportunity to work on cutting-edge innovations.</p>\\n<h2>Tasks</h2>\\n<ul>\\n<li>Design, train, and optimize machine learning models for deployment on <strong>microcontrollers, FPGAs, TPUs, and custom ASICs</strong></li>\\n<li>Implement <strong>low-power deep learning</strong> solutions for edge devices</li>\\n<li>Optimize models using <strong>quantization, pruning, knowledge distillation, and hardware-aware training</strong></li>\\n<li>Deploy and benchmark ML models on <strong>TensorFlow Lite, ONNX, PyTorch Mobile, and Edge TPU</strong></li>\\n<li>Develop firmware/software to integrate AI models with <strong>real-time operating systems (RTOS), IoT networks, and embedded Linux</strong></li>\\n<li>Collaborate with <strong>hardware engineers</strong> to improve AI performance on custom architectures</li>\\n</ul>\\n<h2>Requirements</h2>\\n<ul>\\n<li><strong>Experience</strong> in embedded software development for <strong>AI &#x26; TinyML applications</strong></li>\\n<li><strong>Proficiency</strong> in <strong>C, C++, and Python</strong> for real-time, low-power systems</li>\\n<li><strong>Knowledge</strong> of <strong>microcontroller architectures</strong> and <strong>RTOS</strong> (Zephyr, FreeRTOS, etc.)</li>\\n<li><strong>Ability</strong> to work cross-functionally in a <strong>fast-moving, collaborative</strong> environment</li>\\n<li><strong>Passion</strong> for pushing the limits of <strong>Edge AI &#x26; embedded ML</strong> innovation</li>\\n</ul>\\n<h2>Benefits</h2>\\n<p>🚀 Work on the bleeding edge of <strong>blockchain &#x26; AI</strong> innovation.<br>\\n🌍 <strong>Remote-first</strong> team with a flexible work culture.<br>\\n💡 Opportunity to <strong>shape the future</strong> of decentralized AI applications.<br>\\n💰 Competitive salary &#x26; potential for <strong>equity/token incentives</strong>.</p>\\n<p>Join Avo Intelligence and revolutionize AI! Work with cutting-edge TinyML tech, collaborate globally, and make an impact. Apply now for the Embedded Software Engineer role!</p>\\n<p>Find <a href=\"https://www.arbeitnow.com/\">Jobs in Germany</a> on Arbeitnow</a>',\n",
       " 'remote': False,\n",
       " 'url': 'https://www.arbeitnow.com/jobs/companies/avo-intelligence/embedded-software-engineer-munich-350718',\n",
       " 'tags': ['Embedded Systems', 'Firmware Development'],\n",
       " 'job_types': ['professional / experienced'],\n",
       " 'location': 'Munich',\n",
       " 'created_at': 1741448943}"
      ]
     },
     "execution_count": 49,
     "metadata": {},
     "output_type": "execute_result"
    }
   ],
   "source": [
    "response['data'][0]"
   ]
  },
  {
   "cell_type": "code",
   "execution_count": 47,
   "id": "8e74e8bb",
   "metadata": {},
   "outputs": [
    {
     "data": {
      "text/plain": [
       "'<p>We are seeking an <strong>Edge AI &#x26; Embedded ML Engineer</strong> to develop <strong>high-performance, low-latency AI models</strong> for deployment on resource-constrained devices. This role involves optimizing deep learning models for <strong>real-time inference on edge hardware</strong>, ensuring efficiency in power-limited environments.</p>\\n<p>If you have experience with <strong>TinyML, on-device AI, and embedded neural networks</strong>, this is the perfect opportunity to work on cutting-edge innovations.</p>\\n<h2>Tasks</h2>\\n<ul>\\n<li>Design, train, and optimize machine learning models for deployment on <strong>microcontrollers, FPGAs, TPUs, and custom ASICs</strong></li>\\n<li>Implement <strong>low-power deep learning</strong> solutions for edge devices</li>\\n<li>Optimize models using <strong>quantization, pruning, knowledge distillation, and hardware-aware training</strong></li>\\n<li>Deploy and benchmark ML models on <strong>TensorFlow Lite, ONNX, PyTorch Mobile, and Edge TPU</strong></li>\\n<li>Develop firmware/software to integrate AI models with <strong>real-time operating systems (RTOS), IoT networks, and embedded Linux</strong></li>\\n<li>Collaborate with <strong>hardware engineers</strong> to improve AI performance on custom architectures</li>\\n</ul>\\n<h2>Requirements</h2>\\n<ul>\\n<li><strong>Experience</strong> in embedded software development for <strong>AI &#x26; TinyML applications</strong></li>\\n<li><strong>Proficiency</strong> in <strong>C, C++, and Python</strong> for real-time, low-power systems</li>\\n<li><strong>Knowledge</strong> of <strong>microcontroller architectures</strong> and <strong>RTOS</strong> (Zephyr, FreeRTOS, etc.)</li>\\n<li><strong>Ability</strong> to work cross-functionally in a <strong>fast-moving, collaborative</strong> environment</li>\\n<li><strong>Passion</strong> for pushing the limits of <strong>Edge AI &#x26; embedded ML</strong> innovation</li>\\n</ul>\\n<h2>Benefits</h2>\\n<p>🚀 Work on the bleeding edge of <strong>blockchain &#x26; AI</strong> innovation.<br>\\n🌍 <strong>Remote-first</strong> team with a flexible work culture.<br>\\n💡 Opportunity to <strong>shape the future</strong> of decentralized AI applications.<br>\\n💰 Competitive salary &#x26; potential for <strong>equity/token incentives</strong>.</p>\\n<p>Join Avo Intelligence and revolutionize AI! Work with cutting-edge TinyML tech, collaborate globally, and make an impact. Apply now for the Embedded Software Engineer role!</p>\\n<p>Find <a href=\"https://www.arbeitnow.com/\">Jobs in Germany</a> on Arbeitnow</a>'"
      ]
     },
     "execution_count": 47,
     "metadata": {},
     "output_type": "execute_result"
    }
   ],
   "source": [
    "response['data'][0]['description']"
   ]
  },
  {
   "cell_type": "code",
   "execution_count": 55,
   "id": "ff2be573",
   "metadata": {},
   "outputs": [
    {
     "name": "stderr",
     "output_type": "stream",
     "text": [
      "100%|██████████| 100/100 [00:49<00:00,  2.01it/s]\n"
     ]
    }
   ],
   "source": [
    "# Split the document into chunks_jobs\n",
    "text_splitter = RecursiveCharacterTextSplitter(\n",
    "    separators=['\\n', '.', '– ', '• ', ' ', ''], #order matters\n",
    "    chunk_size=1000,\n",
    "    chunk_overlap=50\n",
    ")\n",
    "\n",
    "# Create chunks_jobs of the document content\n",
    "chunks_jobs = []\n",
    "last_key = 0\n",
    "for doc in tqdm(response['data']):\n",
    "    content = doc['description']\n",
    "    doc_chunks_jobs = text_splitter.split_text(content)\n",
    "    for j in range(len(doc_chunks_jobs)):\n",
    "        chunks_jobs.append({f'id': f\"id{last_key}\",\n",
    "                       'content': doc_chunks_jobs[j],\n",
    "                       'embedding': get_embedding(doc_chunks_jobs[j]),\n",
    "                       'metadata': {'location': doc['location'], 'remote': doc['remote'],\n",
    "                                    'job_types': str(doc['job_types']), 'title': doc['title'],\n",
    "                                    'company_name': doc['company_name'], 'url': doc['url'],\n",
    "                                    'tags': str(doc['tags'])}\n",
    "                       })\n",
    "        last_key += 1\n",
    " "
   ]
  },
  {
   "cell_type": "code",
   "execution_count": 92,
   "id": "3bb18d7e",
   "metadata": {},
   "outputs": [
    {
     "name": "stderr",
     "output_type": "stream",
     "text": [
      "100it [01:32,  1.08it/s]\n"
     ]
    }
   ],
   "source": [
    "# Create chunks_jobs_unsplit version of the document content\n",
    "chunks_jobs_unsplit = []\n",
    "last_key = 0\n",
    "for i, doc in tqdm(enumerate(response['data'])):\n",
    "    content = doc['description']\n",
    "    chunks_jobs_unsplit.append({f'id': f\"id{last_key}\",\n",
    "        'content': content,\n",
    "        'embedding': get_embedding(content),\n",
    "        'metadata': {'location': doc['location'], 'remote': doc['remote'],\n",
    "                    'job_types': str(doc['job_types']), 'title': doc['title'],\n",
    "                    'company_name': doc['company_name'], 'url': doc['url'],\n",
    "                    'tags': str(doc['tags'])}\n",
    "                       })\n",
    "    last_key += 1\n",
    " "
   ]
  },
  {
   "cell_type": "markdown",
   "id": "be1140f4",
   "metadata": {},
   "source": [
    "### Unsplit version "
   ]
  },
  {
   "cell_type": "code",
   "execution_count": 93,
   "id": "f879c09e",
   "metadata": {},
   "outputs": [],
   "source": [
    "job_collections_unsplit = client.create_collection(\n",
    "    name=\"job_collections_unsplit\",\n",
    "    metadata={\"hnsw:space\": \"cosine\"}\n",
    ")"
   ]
  },
  {
   "cell_type": "code",
   "execution_count": 94,
   "id": "eaf1be50",
   "metadata": {},
   "outputs": [
    {
     "name": "stderr",
     "output_type": "stream",
     "text": [
      "100%|██████████| 100/100 [00:00<00:00, 254.91it/s]\n"
     ]
    }
   ],
   "source": [
    "for i in tqdm(range(len(chunks_jobs_unsplit))):\n",
    "    job_collections_unsplit.add(\n",
    "        documents=chunks_jobs_unsplit[i]['content'],\n",
    "        ids=chunks_jobs_unsplit[i][\"id\"],\n",
    "        metadatas=chunks_jobs_unsplit[i][\"metadata\"],\n",
    "        embeddings=chunks_jobs_unsplit[i][\"embedding\"]\n",
    "    )"
   ]
  },
  {
   "cell_type": "markdown",
   "id": "293054d0",
   "metadata": {},
   "source": [
    "### Split version"
   ]
  },
  {
   "cell_type": "code",
   "execution_count": 56,
   "id": "87e76df8",
   "metadata": {},
   "outputs": [],
   "source": [
    "job_collections = client.create_collection(\n",
    "    name=\"jobs_collections\",\n",
    "    metadata={\"hnsw:space\": \"cosine\"}\n",
    ")"
   ]
  },
  {
   "cell_type": "code",
   "execution_count": 57,
   "id": "ca67f90a",
   "metadata": {},
   "outputs": [
    {
     "name": "stderr",
     "output_type": "stream",
     "text": [
      "100%|██████████| 389/389 [00:00<00:00, 551.45it/s]\n"
     ]
    }
   ],
   "source": [
    "for i in tqdm(range(len(chunks_jobs))):\n",
    "    job_collections.add(\n",
    "        documents=chunks_jobs[i]['content'],\n",
    "        ids=chunks_jobs[i][\"id\"],\n",
    "        metadatas=chunks_jobs[i][\"metadata\"],\n",
    "        embeddings=chunks_jobs[i][\"embedding\"]\n",
    "    )"
   ]
  },
  {
   "cell_type": "code",
   "execution_count": 58,
   "id": "67d8fce8",
   "metadata": {},
   "outputs": [],
   "source": [
    "cv_embeddings = get_embedding(text)"
   ]
  },
  {
   "cell_type": "code",
   "execution_count": 95,
   "id": "bc081e12",
   "metadata": {},
   "outputs": [],
   "source": [
    "top_results = job_collections_unsplit.query(\n",
    "    query_embeddings=cv_embeddings,\n",
    "    # query_texts=[\"doc10\", \"thus spake zarathustra\", ...],\n",
    "    n_results=10,\n",
    "    # where={\"metadata_field\": \"is_equal_to_this\"},\n",
    "    # where_document={\"$contains\":\"search_string\"}\n",
    ")"
   ]
  },
  {
   "cell_type": "code",
   "execution_count": 96,
   "id": "bf62fa73",
   "metadata": {},
   "outputs": [
    {
     "data": {
      "text/plain": [
       "{'ids': [['id90',\n",
       "   'id22',\n",
       "   'id21',\n",
       "   'id28',\n",
       "   'id78',\n",
       "   'id3',\n",
       "   'id44',\n",
       "   'id16',\n",
       "   'id24',\n",
       "   'id73']],\n",
       " 'embeddings': None,\n",
       " 'documents': [['<p>Wir sind ein dynamisches Software-Startup. Wir entwickeln und vertreiben Softwarelösungen für mittelständische Unternehmen. Unser Hauptprodukt ist eine moderne und leistungsfähige Cloud-Software für das Dokumentenmanagement in Unternehmen.</p>\\n<h2>Aufgaben</h2>\\n<p>Wir suchen aktuell Werkstudent:innen, die gemeinsam mit uns unsere aktuellen Projekte zur Nutzung von LLMs (u. a. Llama 2, DeepSeek) in Form von KI-Services in unserer Software weiter vorantreiben. Wir arbeiten aktuell an mehreren KI-Einsatzszenarien und hosten die open-source LLMs selbst auf einer eigenen Infrastruktur.</p>\\n<h2>Qualifikation</h2>\\n<p>Vorkenntnisse in KI-Technologien sind nicht zwingend erforderlich, wir schulen unsere neuen Mitarbeiter selbst. Technisches Verständnis (Informatik, Wirtschaftsinformatik o. ä.) ist natürlich notwendig.</p>\\n<h2>Benefits</h2>\\n<ul>\\n<li>Barrierefreier Zugang</li>\\n<li>Berufliche Bildung</li>\\n<li>Entschädigung für Reisekosten</li>\\n<li>Firmenlaptop</li>\\n<li>Flexible Arbeitszeiten</li>\\n<li>Homeoffice</li>\\n<li>Kostenlose Getränke</li>\\n</ul>\\n<p>Wir bieten außerdem einen persönlichen Mentor als Ansprechpartner, Weiterbildungsmöglichkeiten und viel Flexibilität in Bezug auf Arbeitstage und -zeiträume.</p>\\n<p>Find <a href=\"https://www.arbeitnow.com/\">Jobs in Germany</a> on Arbeitnow</a>',\n",
       "   '<p>Wir haben unser Team gefragt:</p>\\n<p>Welche Fähigkeiten benötigen wir?</p>\\n<p><strong>Auf den ersten Blick passen wir zusammen, wenn:</strong> </p>\\n<ul>\\n<li>…Du Lust hast mit einem Tool zu arbeiten, das auf Webtechnologien basiert und revisionssicher mit Apache Subversion arbeitet (Polarion).</li>\\n<li>…Du gerne zeitnah mit uns durchstarten möchtest.</li>\\n<li>…Dir Netzwerk- und Sicherheitsmanagement genauso viel Spaß macht  wie die Verwaltung und Wartung von Servern.</li>\\n<li>…ein Bruttojahresgehalt ab 50.000 Euro bei 40 Wochenarbeitsstunden zu Deinen Vorstellungen passt. Lass uns gerne wissen, welches Jahresgehalt Du Dir konkret vorstellst.</li>\\n<li>…Du Motivation, Menschlichkeit &#x26; Spaß an Teamwork mitbringst. Ohne geht\\'s nicht!</li>\\n</ul>\\n<h2>Aufgaben</h2>\\n<p>Deine Rolle in unserem Product Development &#x26; Support Team:</p>\\n<p>Womit möchtest Du an Wochentagen Deine Zeit verbringen?  </p>\\n<p><strong>Serververwaltung und -wartung:</strong> Du wirst verantwortlich sein für die Einrichtung, Konfiguration und Wartung unserer Serverlandschaft. Dein Fokus liegt dabei auf der Sicherstellung eines reibungslosen und sicheren Betriebs unserer IT-Infrastruktur.</p>\\n<p><strong>Ticketbearbeitung:</strong> In unserem engagierten Team kümmern wir uns effizient um eingehende Anfragen und Probleme. Du analysierst eigenständig die gemeldeten Tickets, findest nachhaltige Lösungen und sorgst dafür, dass die Kundensysteme optimal laufen.</p>\\n<p><strong>Netzwerk- und Sicherheitsmanagement:</strong> Wir gewährleisten höchste Standards in Bezug auf Netzwerksicherheit und -performance. Du bist aktiv an der Überwachung und Verbesserung unserer Netzwerksicherheit beteiligt und implementierst notwendige Maßnahmen zur Gefahrenabwehr.</p>\\n<p><strong>Technische Dokumentation:</strong> In der IT-Branche sind präzise Dokumentationen unerlässlich. Du erstellst und pflegst detaillierte technische Dokumentationen, die die Konfiguration, Wartung und Installation unserer Systeme vereinfachen. Diese Dokumentationen tragen nachhaltig zur Effizienz und Standardisierung bei.</p>\\n<p><strong>Zusammenarbeit im Team:</strong> Unser Team arbeitet eng zusammen und vereint eine Vielfalt an Expertise. Du wirst mit anderen Administrator:innen, Entwickler:innen, Produktmanager:innen kooperieren, um sicherzustellen, dass unsere IT-Infrastruktur den neuesten Standards und Anforderungen entspricht. Gemeinsam verbessern wir kontinuierlich unsere Systeme und Prozesse.</p>\\n<h2>Qualifikation</h2>\\n<p>Deine Persönlichkeit &#x26; Fähigkeiten</p>\\n<p><strong>Must have:</strong> </p>\\n<ul>\\n<li>\\n<p><strong>Spaß, Humor, Menschlichkeit</strong></p>\\n</li>\\n<li>\\n<p><strong>Abgeschlossenes Studium oder vergleichbare Qualifikation:</strong> Du hast ein abgeschlossenes Studium in Informatik, Softwareentwicklung oder eine vergleichbare Qualifikation, die Deine technische Expertise untermauert.</p>\\n</li>\\n<li>\\n<p><strong>Erfahrung in der Serververwaltung:</strong> Du verfügst über fundierte Kenntnisse in der Installation, Konfiguration und Fehlersuche von Servern in Linux- und/oder Windows-Umgebungen. Zu Deinen Werkzeugen gehören Technologien wie Apache, HTTPS, SVN und PostgreSQL.</p>\\n</li>\\n<li>\\n<p><strong>IT-Administration und Infrastruktur:</strong> Du unterstützt aktiv unsere IT-Administration und Infrastruktur mit Expertise in Azure AD, Office 365, Windows und MacOS Clients, Ubuntu Server, OPNsense, Monitoring und Intune.</p>\\n</li>\\n<li>\\n<p><strong>Skriptsprachen:</strong> Du bist versiert im Umgang mit Shell, PowerShell und Perl und kannst diese für die Erstellung und Automatisierung von Installationspaketen nutzen.</p>\\n</li>\\n<li>\\n<p><strong>Selbstständige Arbeitsweise:</strong> Du arbeitest eigenständig und bist besonders geschickt in der Root Cause Analyse, um Probleme an der Wurzel zu lösen.</p>\\n</li>\\n<li>\\n<p><strong>Kommunikationsstärke:</strong> Du verfügst über ausgezeichnete Kommunikationsfähigkeiten in Deutsch und Englisch, die Dir ermöglichen, effektiv im Team und mit Kunden zu interagieren.</p>\\n<p><strong>Nice to have:</strong> </p>\\n</li>\\n<li>\\n<p><strong>Branchenerfahrung:</strong> Idealerweise bringst Du Erfahrung in der MedTech-Branche mit und kennst die spezifischen Anforderungen und Herausforderungen dieses Bereichs.</p>\\n</li>\\n<li>\\n<p><strong>Softwareentwicklung:</strong> Du hast nachgewiesene Erfahrung in der Softwareentwicklung und bist vertraut mit den aktuellen Methoden und Best Practices.</p>\\n</li>\\n<li>\\n<p><strong>Programmierkenntnisse:</strong> Du bringst Programmierkenntnisse in Java, JavaScript, HTML und CSS mit und kannst diese für diverse Aufgaben einsetzen.</p>\\n</li>\\n<li>\\n<p><strong>Polarion-Kenntnisse:</strong> Anpassung und Konfiguration von Polarion ist unser Alltag, um unseren Kunden maßgeschneiderte Lösungen zu entwickeln und zu implementieren.</p>\\n</li>\\n</ul>\\n<h2>Benefits</h2>\\n<p>Unser innovatives Arbeitsumfeld</p>\\n<p><strong>Erholung</strong></p>\\n<p>Wir legen großen Wert auf eine ausgeglichene Life-Work-Balance. Wir haben 30 Tage Urlaub pro Jahr und bieten neben der 40 Stundenwoche auch unterschiedliche Teilzeitmodelle an.</p>\\n<p><strong>Weiterbildung</strong></p>\\n<p>Uns ist wichtig, dass sich jeder weiterentwickeln kann. Ob interne oder externe Schulungen – wir wollen, dass Du wächst, und unterstützen Dich dabei!</p>\\n<p><strong>Co-Working im Design Office</strong></p>\\n<p>Unser Team hat, neben unserem Büro in Hamburg, auch die Möglichkeit alle Design Offices in ganz Deutschland zu nutzen. Zudem haben wir ein monatliches Budget zum Co-Worken – Treffen mit Deinem eigenen Team und teamübergreifendes Co-Working sind so jederzeit unkompliziert möglich.</p>\\n<p><strong>Regelmäßige Teamevents</strong></p>\\n<p>#avaFun ist garantiert ?. Wir treffen uns digital in wöchentlichen Teamcalls und analog dreimal jährlich deutschlandweit. Einmal im Jahr treffen wir uns analog europaweit mit unserem großartigen Team.</p>\\n<p><strong>Flexibilität</strong></p>\\n<p>Freiheit durch Home Office + Workations in Kombination mit Sicherheit durch flexible Arbeitszeiten, wertschätzende Gehälter und eine gesunde Unternehmenskultur.</p>\\n<p><strong>Make an impact</strong></p>\\n<p>Verändere eine der innovativsten Branchen – die Medizintechnik.<br>\\nLass uns gemeinsam zu einer besseren Patientenversorgung beitragen!</p>\\n<p><strong>Über uns &#x26; unsere Mission</strong></p>\\n<ul>\\n<li><strong>avasis solutions GmbH</strong>: ein dynamisches, stark wachsendes Start-up und Teil der etablierten avasis Gruppe</li>\\n<li><strong>Unsere Mission:</strong> Prozesse vereinfachen und Komplexität von Informationen in der Medizintechnik reduzieren. Damit leisten wir einen wichtigen Beitrag für eine bessere Patientenversorgung!</li>\\n</ul>\\n<p><strong>Wir freuen uns auf alle Bewerbungen</strong> - unabhängig von Geschlecht, Nationalität, ethnischer und sozialer Herkunft, Religion/Weltanschauung, Behinderung und Alter.</p>\\n<p>Find <a href=\"https://www.arbeitnow.com/\">Jobs in Germany</a> on Arbeitnow</a>',\n",
       "   '<p>We\\'re looking for a motivated and driven<strong> (Senior) Project Manager – Network Planning</strong> <strong>(m/f/d)</strong> who will help us shape our team, drive the company to the next level, and have the most direct influence on our success.</p>\\n<p>Network Planning Department - the architect of our business, collaborating closely with commercial functions, business development and operations to design the network, allocate bus types, manage timetables, and drive efficiencies.</p>\\n<p>This is a key role responsible for driving the successful execution and implementation of our Network Planning projects. You will collaborate cross-functionally (with NP business teams, NP Business owner, and non-NP teams) to ensure projects are completed on time, within budget, and to the highest quality standards. The Project Manager will play a crucial role in in enhancing NP process unification, improving efficiency, and contributing to the overall success of our network planning initiatives.</p>\\n<h3><strong>Your Tasks – Paint the world green</strong></h3>\\n<p><strong>Project Planning and Execution:</strong></p>\\n<ul>\\n<li>Develop comprehensive project plans, including timelines, milestones, resource allocation, and budgets.</li>\\n<li>Lead the execution of projects, ensuring alignment with strategic goals and objectives.</li>\\n<li>Monitor project progress, identify and mitigate risks, and adjust plans as needed.</li>\\n<li>Ensure projects are completed on time, within budget, and to the satisfaction of stakeholders.</li>\\n</ul>\\n<p><strong>Cross-Functional Collaboration:</strong></p>\\n<ul>\\n<li>Collaborate with teams across the organization, including network planning, business development, operations, revenue management and IT.</li>\\n<li>Build strong relationships with stakeholders to ensure alignment and support for projects.</li>\\n<li>Facilitate team meetings and progress check-ins.</li>\\n<li>Manage communication between teams and stakeholders.</li>\\n</ul>\\n<p><strong>Reporting &amp; Documentation:</strong></p>\\n<ul>\\n<li>Track progress and update project dashboard</li>\\n<li>Maintain clear documentation of milestones and key decisions</li>\\n<li>Gather and analyse data to track project performance and identify areas for improvement.</li>\\n<li>Prepare regular reports on project status, key metrics, and insights.</li>\\n</ul>\\n<p><strong>Customer Focus:</strong></p>\\n<ul>\\n<li>Maintain a strong focus on customer needs and expectations throughout the project lifecycle.</li>\\n<li>Ensure projects deliver measurable improvements in customer satisfaction</li>\\n</ul>\\n<p><strong>Development of solution:</strong></p>\\n<ul>\\n<li>Lead brainstorming sessions and workshops to generate solutions for various work streams</li>\\n<li>Use data to drive decision-making and optimize project outcomes.</li>\\n<li>Conduct post-project evaluation and gather feedback</li>\\n</ul>\\n<h3><strong>Your Profile – Ready to hop on board</strong></h3>\\n<p><strong>Education and Experience:</strong></p>\\n<ul>\\n<li>Bachelor\\'s degree in engineering, economics or business administration.</li>\\n<li>Knowledge of the business and network planning processes is a plus.</li>\\n<li>Demonstrated track record of managing complex projects from inception to completion.</li>\\n</ul>\\n<p><strong>Skills:</strong></p>\\n<ul>\\n<li>Strong project management skills, including planning, scheduling, budgeting, and risk management.</li>\\n<li>Knowledge of PM software and tools (Jira, Asana, MS Project) is a plus</li>\\n<li>Knowledge of Agile, Scrum, Waterfall, and hybrid methodologies is a plus</li>\\n<li>Excellent communication and interpersonal skills, with the ability to build relationships across the organization.</li>\\n<li>Time and Task Management: Prioritizing tasks and meeting deadlines, efficient scheduling, workflow optimization</li>\\n<li>Strong analytical and problem-solving skills, with the ability to gather and interpret data to drive decision-making, decision making under pressure</li>\\n</ul>\\n<p><strong>Abilities:</strong></p>\\n<ul>\\n<li>Ability to work independently and as part of a team.</li>\\n<li>Excellent organizational and time management skills.</li>\\n<li>Results-oriented and driven to achieve success.</li>\\n</ul>\\n<h3><strong>Our Perks – More than just a job</strong></h3>\\n<ul>\\n<li style=\"text-align: justify;\">You have an impact. <span class=\"TextRun SCXP197452118 BCX0\" lang=\"EN-US\" data-scheme-color=\"@444444,,\" data-usefontface=\"true\" data-contrast=\"none\"><span class=\"NormalTextRun SCXP197452118 BCX0\">With innovation and smart technology,&nbsp;</span></span><span class=\"TextRun SCXP197452118 BCX0\" lang=\"EN-US\" data-scheme-color=\"@444444,,\" data-usefontface=\"true\" data-contrast=\"none\"><span class=\"NormalTextRun SCXP197452118 BCX0\">we are</span><span class=\"NormalTextRun SCXP197452118 BCX0\">&nbsp;creating the easiest way to travel. We want your ideas&nbsp;</span></span><span class=\"TextRun SCXP197452118 BCX0\" lang=\"EN-US\" data-scheme-color=\"@444444,,\" data-usefontface=\"true\" data-contrast=\"none\"><span class=\"NormalTextRun SCXP197452118 BCX0\">and give you autonomy to make them reality.</span></span><span class=\"EOP SCXP197452118 BCX0\">\\u200b</span></li>\\n<li style=\"text-align: justify;\">Flix is flexible. Organize your own schedule with trust-based hours and up to 60 days of working from (m)anywhere. We are an office-first company, and we encourage all employees to come regularly to their local office.</li>\\n<li style=\"text-align: justify;\">Travelling is our passion. <span class=\"TextRun SCXP178056135 BCX0\" lang=\"EN-US\" data-scheme-color=\"@444444,,\" data-usefontface=\"true\" data-contrast=\"none\"><span class=\"NormalTextRun SCXP178056135 BCX0\">Discover the world with your free&nbsp;</span></span><span class=\"TextRun SCXP178056135 BCX0\" lang=\"EN-US\" data-scheme-color=\"@444444,,\" data-usefontface=\"true\" data-contrast=\"none\"><span class=\"NormalTextRun SCXP178056135 BCX0\">Flix rides and bring along your friends and family for half&nbsp;</span></span><span class=\"TextRun SCXP178056135 BCX0\" lang=\"EN-US\" data-scheme-color=\"@444444,,\" data-usefontface=\"true\" data-contrast=\"none\"><span class=\"NormalTextRun SCXP178056135 BCX0\">price.</span></span></li>\\n<li style=\"text-align: justify;\">Teamwork makes the dream work. <span class=\"TextRun  BCX0 SCXP264504940\" lang=\"EN-US\" data-scheme-color=\"@444444,,\" data-usefontface=\"true\" data-contrast=\"none\"><span class=\"NormalTextRun  BCX0 SCXP264504940\">Our&nbsp;</span></span><span class=\"TextRun  BCX0 SCXP264504940\" lang=\"EN-US\" data-scheme-color=\"@444444,,\" data-usefontface=\"true\" data-contrast=\"none\"><span class=\"SpellingError  BCX0 SCXP264504940\">FlixTeam</span></span><span class=\"TextRun  BCX0 SCXP264504940\" lang=\"EN-US\" data-scheme-color=\"@444444,,\" data-usefontface=\"true\" data-contrast=\"none\"><span class=\"NormalTextRun  BCX0 SCXP264504940\">&nbsp;has people&nbsp;</span></span><span class=\"TextRun  BCX0 SCXP264504940\" lang=\"EN-US\" data-scheme-color=\"@444444,,\" data-usefontface=\"true\" data-contrast=\"none\"><span class=\"NormalTextRun  BCX0 SCXP264504940\">from over 80 different nations. We work in a multicultural&nbsp;</span></span><span class=\"TextRun  BCX0 SCXP264504940\" lang=\"EN-US\" data-scheme-color=\"@444444,,\" data-usefontface=\"true\" data-contrast=\"none\"><span class=\"NormalTextRun  BCX0 SCXP264504940\">environment where we can challenge and support each other.</span></span></li>\\n<li style=\"text-align: justify;\">We\\'re not only green in color. <span class=\"TextRun  BCX0 SCXP262295364\" lang=\"EN-US\" data-scheme-color=\"@444444,,\" data-usefontface=\"true\" data-contrast=\"none\"><span class=\"NormalTextRun  BCX0 SCXP262295364\">We\\'re</span><span class=\"NormalTextRun  BCX0 SCXP262295364\">&nbsp;building for the long&nbsp;</span></span><span class=\"TextRun  BCX0 SCXP262295364\" lang=\"EN-US\" data-scheme-color=\"@444444,,\" data-usefontface=\"true\" data-contrast=\"none\"><span class=\"NormalTextRun  BCX0 SCXP262295364\">term, and that means protecting our planet. We constantly&nbsp;</span></span><span class=\"TextRun  BCX0 SCXP262295364\" lang=\"EN-US\" data-scheme-color=\"@444444,,\" data-usefontface=\"true\" data-contrast=\"none\"><span class=\"NormalTextRun  BCX0 SCXP262295364\">test new green technologies and compensate for the CO2&nbsp;</span></span><span class=\"TextRun  BCX0 SCXP262295364\" lang=\"EN-US\" data-scheme-color=\"@444444,,\" data-usefontface=\"true\" data-contrast=\"none\"><span class=\"NormalTextRun  BCX0 SCXP262295364\">after all our business travel since 2018.</span></span></li>\\n<li style=\"text-align: justify;\">Your well-being is important to us. To treat your mind and body we will give you a competitive paid time off package, mental health support including 1:1 consultations with a psychologist, and a neat discount on UrbanSportsClub memberships.</li>\\n</ul>\\n<p><strong>Want to rewrite the history of mobility with us? Then join our ride and apply now. We\\'re excited to hear from you!&nbsp; </strong><strong>We recognize that everyone carries a unique set of valuable skills and experiences. If you think you could have an impact even though you don\\'t meet 100% of the requirements, we still encourage you to apply. <span style=\"color: rgb(255, 255, 255);\">#LI-Hybrid</span></strong></p>\\n<hr>\\n<p><strong>About Flix</strong></p>\\n<p style=\"text-align: justify;\">We are a global mobility provider with headquarters in Europe and the United States. Since 2013, we have changed the way millions of people have traveled, offering new alternatives for convenient, affordable and eco-friendly travel. Thanks to a unique business model and innovative technology, we have quickly established one of the largest long-distance mobility networks in the world – and our journey has just begun.</p>\\n<div style=\"text-align: justify;\">Flix is proud to be an Equal Opportunity Employer. We celebrate diversity and do not discriminate on the basis of race, color, religion, gender (including pregnancy and gender identity), national, social or ethnic origin, political affiliation, sexual orientation, marital status, disability, age, veteran status, or other legally protected characteristics. All employment decisions are based on business needs, job requirements, competence and merit.</div>\\n<p>The following video shows our amazing success story:</p>\\n<p><iframe src=\"https://www.youtube.com/embed/_6HdeaH91Sg\" width=\"562\" height=\"315\"></iframe></p>\\n<p>&nbsp;</p><p>Find <a href=\"https://www.arbeitnow.com/\">Jobs in Germany</a> on Arbeitnow</a>',\n",
       "   '<p>Du besitzt ausgezeichnete Kommunikationsfähigkeiten und ERP-Systeme sind Deine Heimat?</p>\\n<p>Die Seiwert GmbH bietet kundenorientierte IT-Beratung und Umsetzung auf Basis der anwenderfreundlichen und browserbasierten ERP-Lösung von Myfactory. Dabei profitieren unsere Kunden von 20 Jahren Praxiserfahrung in der Leitung, Begleitung und Umsetzung in über 150 Software-Projekten.</p>\\n<h2>Aufgaben</h2>\\n<p>Du bist ein Problemlöser mit Leidenschaft für Technologie und hast ein gutes Gespür für die Bedürfnisse von kleinen und mittleren Unternehmen? Du möchtest in einem dynamischen Team arbeiten und deine Fähigkeiten in einem abwechslungsreichen Umfeld einsetzen? Dann suchen wir genau dich! </p>\\n<ul>\\n<li>First-Level und Second-Level Support für unsere ERP-Kunden</li>\\n<li>Analyse und Lösung von technischen und fachlichen Problemen im ERP-System</li>\\n<li>Unterstützung bei der Systemeinführung sowie der kontinuierlichen Optimierung bestehender Lösungen</li>\\n<li>Durchführung von SQL-Abfragen zur Fehlerdiagnose und Datenanalyse</li>\\n<li>Beratung und Schulung von Kunden im Umgang mit dem ERP-System</li>\\n<li>Enge Zusammenarbeit mit den Entwicklungsteams zur Weiterentwicklung des Systems</li>\\n</ul>\\n<h2>Qualifikation</h2>\\n<ul>\\n<li>Du sprichst und schreibst fliessend Deutsch – unsere Kunden schätzen eine klare und freundliche Kommunikation</li>\\n<li>Du hast Erfahrungen im Umgang mit ERP-Systemen und der Fehlerbehebung in diesem Bereich</li>\\n<li>SQL-Kenntnisse und ein gutes technisches Verständnis sind für dich kein Fremdwort</li>\\n<li>Du fühlst dich wohl im Umfeld von KMU und hast ein gutes Gespür für die Herausforderungen, die diese mit sich bringen</li>\\n<li>Du arbeitest strukturiert und lösungsorientiert – auch bei komplexen Aufgaben behältst du den Überblick</li>\\n<li>Eine hohe Kundenorientierung sowie Teamgeist runden dein Profil ab</li>\\n</ul>\\n<h2>Benefits</h2>\\n<ul>\\n<li>Abwechslungsreiche Aufgaben in einem zukunftssicheren Unternehmen</li>\\n<li>Flache Hierarchien und kurze Entscheidungswege – deine Ideen zählen und wir sind ein KMU wie unsere Kunden.</li>\\n<li>Ein kollegiales Team, das Spaß an der Arbeit hat und sich gegenseitig unterstützt</li>\\n<li>Die Möglichkeit, mobil zu arbeiten</li>\\n<li>Weiterbildungsmöglichkeiten zur fachlichen und persönlichen Entwicklung </li>\\n<li>Nein, kein Obstkorb (aber im Sommer ist Eis im Froster ;-) ) - dafür andere Benefits wie JobRad, FitnessAbo,...</li>\\n</ul>\\n<p>Dann freuen wir uns auf deine Bewerbung! Schick uns deinen Lebenslauf und ein Motivationsschreiben. </p>\\n<p>Werde Teil unseres Teams und unterstütze uns dabei, unseren Kunden den besten ERP-Support zu bieten!</p>\\n<p>Find <a href=\"https://www.arbeitnow.com/\">Jobs in Germany</a> on Arbeitnow</a>',\n",
       "   '<p>Wir sind ein dynamisches Software-Startup. Wir entwickeln und vertreiben Softwarelösungen für mittelständische Unternehmen. Unser Hauptprodukt ist eine moderne und leistungsfähige Cloud-Software für das Dokumentenmanagement in Unternehmen.</p>\\n<h2>Aufgaben</h2>\\n<p>Aufgabenbereich dieser Stelle ist die attraktive Präsentation unserer Software-Lösung in Form von Homepage-Pflege, Blog-Beiträgen, Newslettern, LinkedIn-Posts und Listings auf Software-Vergleichsportalen. Auch die Pflege der Software-Dokumentation sowie die Bearbeitung von Kunden- und Interessentenanfragen, die Pflege unseres CRM-Systems sowie sonstige Recherche-Aufgaben gehören zum Aufgabenprofil.</p>\\n<h2>Qualifikation</h2>\\n<p>Technisches Verständnis, gute Ausdrucksfähigkeit (auf Deutsch)</p>\\n<h2>Benefits</h2>\\n<ul>\\n<li>Barrierefreier Zugang</li>\\n<li>Berufliche Bildung</li>\\n<li>Entschädigung für Reisekosten</li>\\n<li>Firmenlaptop</li>\\n<li>Flexible Arbeitszeiten</li>\\n<li>Homeoffice</li>\\n<li>Kostenlose Getränke</li>\\n</ul>\\n<p>Wir fördern unsere Werkstudent:innen aktiv mit einem persönlichen Mentor als Ansprechpartner, bieten Weiterbildungsmöglichkeiten und viel Flexibilität in Hinblick auf Arbeitstage und -zeiten.<br>\\nWir freuen uns auf Deine Bewerbung!</p>\\n<p>Find more <a href=\"https://www.arbeitnow.com/english-speaking-jobs\">English Speaking Jobs in Germany</a> on Arbeitnow</a>',\n",
       "   '<h2>Tasks</h2>\\n<ul>\\n<li><strong>Develop and maintain high-quality software solutions</strong> using modern technologies.</li>\\n<li>Work on <strong>innovative and large-scale projects</strong> that impact businesses globally.</li>\\n<li>Collaborate with <strong>cross-functional teams</strong> to design, build and deploy software applications.</li>\\n<li>Use programming languages such as <strong>Python, Java, C#, JavaScript, PHP or any other language</strong> to create <strong>scalable and high-performance applications</strong>.</li>\\n<li>Ensure <strong>code quality, security and efficiency</strong> through best practices.</li>\\n<li>Participate in <strong>Agile/Scrum methodologies</strong> to deliver projects efficiently.</li>\\n<li>Continuously <strong>learn and implement new technologies</strong> to stay ahead in the industry.</li>\\n</ul>\\n<h2>Requirements</h2>\\n<ul>\\n<li>You have experience in <strong>ANY programming language</strong> (Python, Java, C#, JavaScript, PHP, etc.).</li>\\n<li>You are skilled in <strong>web, mobile or backend development</strong>.</li>\\n<li>You have a <strong>degree in Computer Science, IT or equivalent experience</strong>.</li>\\n<li>You have experience with <strong>databases (SQL, MySQL, PostgreSQL, MongoDB, etc.)</strong>.</li>\\n<li>Familiarity with <strong>Git, CI/CD, DevOps tools, and cloud platforms (AWS, Azure, Google Cloud)</strong> is a plus.</li>\\n<li>You <strong>love problem-solving and enjoy working on exciting projects</strong>.</li>\\n<li>You <strong>MUST be residing in Germany</strong> and looking for your next career step.</li>\\n<li>You are fluent in <strong>English</strong> (German is a plus but <strong>not required</strong>).</li>\\n</ul>\\n<p>Find <a href=\"https://www.arbeitnow.com/\">Jobs in Germany</a> on Arbeitnow</a>',\n",
       "   '<h2>Dein Aufgabengebiet</h2>\\n<ul>\\n<li><strong>Regulatorische Anforderungen im Blick:</strong> Sie überwachen und steuern die Einhaltung aller relevanten Vorschriften für unsere Produkte.</li>\\n<li><strong>Prozesse optimieren &#x26; umsetzen:</strong> Sie verbessern abteilungsübergreifende Abläufe in Verkauf, Einkauf, Produktion und Qualitätsmanagement – sowohl im ERP-System als auch in der Praxis.</li>\\n<li><strong>Ergebnissteuerung &#x26; Budgetplanung:</strong> Sie behalten den wirtschaftlichen Erfolg unserer Produkte im Auge und steuern gezielt Budgets und Ergebnisse.</li>\\n<li><strong>Marketingstrategie mitgestalten:</strong> Sie arbeiten aktiv an der Erstellung und Umsetzung unseres Marketingplans mit.</li>\\n<li>Projektmanagement: Sie übernehmen die Steuerung und Koordination wichtiger Projekte.</li>\\n<li><strong>Wissen vermitteln:</strong> Sie schulen Ihre Kollegen in allen produktbezogenen Fragestellungen und stellen sicher, dass alle Teams bestens informiert sind.</li>\\n</ul>\\n<h2>Dein Hintergrund</h2>\\n<ul>\\n<li><strong>Abteilungsübergreifendes Denken:</strong> Sie verstehen Zusammenhänge zwischen verschiedenen Unternehmensbereichen und handeln entsprechend.</li>\\n<li><strong>Kommunikationsstärke:</strong> Sie können sich klar ausdrücken – idealerweise auch auf Englisch.</li>\\n<li><strong>Eigeninitiative &#x26; Belastbarkeit:</strong> Sie arbeiten selbstständig, sind teamfähig und behalten auch in herausfordernden Situationen den Überblick.</li>\\n<li><strong>Technisches Verständnis:</strong> Sie haben ein gutes Gespür für technische Zusammenhänge und Prozesse.</li>\\n<li><strong>IT-Affinität:</strong> Sicherer Umgang mit Microsoft Office und Offenheit für weitere Softwarelösungen.</li>\\n<li>Regulatorische Expertise: Sie kennen sich mit Qualitätsmanagementsystemen und regulatorischen Anforderungen aus.</li>\\n<li><strong>Fachlicher Hintergrund:</strong> Ein betriebswirtschaftliches oder naturwissenschaftliches Studium ist von Vorteil.</li>\\n</ul>\\n<h2>Deine Benefits</h2>\\n<ul>\\n<li><strong>Unbefristeter Arbeitsvertrag</strong> – Sicherheit und langfristige Perspektiven</li>\\n<li><strong>Flexible Arbeitszeiten</strong> – Für eine gute Work-Life-Balance</li>\\n<li><strong>Modernes Arbeitsumfeld</strong> – Ergonomische Arbeitsplätze und ein dynamisches Team</li>\\n<li><strong>Weiterbildungsmöglichkeiten</strong> – Fachliche und persönliche Entwicklung stehen bei uns im Fokus</li>\\n<li><strong>Mitarbeiterrabatte &#x26; Vergünstigungen</strong> – Profitieren Sie von exklusiven Angeboten</li>\\n<li>Flache Hierarchien &#x26; schnelle Entscheidungswege – Wir setzen auf offene Kommunikation und eine kollegiale Unternehmenskultur</li>\\n<li><strong>Regelmäßige Teamevents</strong> – Weil gemeinsame Erfolge gefeiert werden sollten</li>\\n</ul>\\n<p>Gender-Hinweis</p>\\n<p>Aus Gründen der besseren Lesbarkeit\\nwird auf die gleichzeitige Verwendung\\nder Sprachformen männlich, weiblich\\nund divers (m/w/d) verzichtet.\\nSämtliche Personenbezeichnungen\\ngelten gleichermaßen für alle\\nGeschlechter.</p>\\n<p>Find <a href=\"https://www.arbeitnow.com/\">Jobs in Germany</a> on Arbeitnow</a>',\n",
       "   '<h2>About the Job</h2>\\n<p>marta aims to enable every person in need of care to age with dignity in their own home. To achieve this, we connect individuals in need of care directly with the best caregivers through our digital platform and simplify and digitize the entire organizational process—from the search, to the contract signing, to the caregiver\\'s arrival and departure. This approach not only makes organizing a caregiver transparent, affordable, and reliable, but also enables caregivers to earn a salary 30% above the market average.  </p>\\n<p>marta was founded in 2021 and is active in 4 countries. We have offices in Berlin, Sibiu (Romania), Gdańsk (Poland), and over 60 team members from more than 10 countries. Our investors include Capnamic, Almaz Capital, RTL Ventures, Swiss Health Ventures, and many renowned angel investors such as Christian Vollmann (C1 Green Chemicals) and Marc Christ (SumUp).  </p>\\n<p>This is a full-time position based in Berlin for a <strong>6</strong> <strong>months</strong>. If you want to work in an innovative and fast-paced environment and help address the care crisis, we look forward to receiving your application!</p>\\n<h2>Your Role in our team</h2>\\n<p>As a Founders Associate (m/f/d), you will report directly to the founders Jan and Philipp and support them with strategic and operational tasks.  </p>\\n<h2>Your responsibilities include:</h2>\\n<ul>\\n<li>Support the founders Jan &#x26; Philipp in their day-to-day strategic &#x26; operative tasks</li>\\n<li>Own the monthly investor reporting and support with quarterly board meetings</li>\\n<li>Own the bi-weekly All-Hands meeting which is our most important internal communication tool</li>\\n<li>Critically question, analyze and improve existing processes that enable a smooth running organization</li>\\n<li>Support our Founders Associate Lukas in launching a new service vertical  \\n<ul>\\n<li>Further define &#x26; develop the GTM strategy: Research and analyze market trends, conduct competitor analysis, and recommend actions  </li>\\n<li>Define &#x26; implement scalable processes to ensure smooth business operations  </li>\\n<li>Support in matching hourly-based caregiver with careseekers in local markets  </li>\\n<li>Define product specifications and hand over to product department</li>\\n</ul>\\n</li>\\n</ul>\\n<h2>Your Profile</h2>\\n<ul>\\n<li>You have completed your Bachelor at a top university or are the best in your year in any other school</li>\\n<li>You are a team player. Working together as a team and sharing knowledge comes naturally to you</li>\\n<li>You are ready and willing to take ownership</li>\\n<li>You have gained first experience in fast-paced environments such as start-ups, consulting, etc.</li>\\n<li>You are an entrepreneurial problem-solver who uses analytical skills and structured thinking to break down complex tasks</li>\\n<li>You speak English &#x26; German fluently</li>\\n</ul>\\n<h2>Why marta?</h2>\\n<ul>\\n<li><strong>Purpose</strong>: You will work on an important mission and have the opportunity to positively influence the nursing care crisis.</li>\\n<li><strong>Work Environment</strong>: We offer you a beautiful office at Nordbahnhof with state-of-the-art equipment and everything you need to work.</li>\\n<li><strong>Events</strong>: In addition to our company celebrations, we have regular team events.</li>\\n<li><strong>Career &#x26; Development</strong>: You will be part of an international team of over 60 employees and, in addition to regular feedback discussions, you will have many exciting growth and learning opportunities.</li>\\n<li><strong>Hybrid Work</strong>: You have the opportunity to work from home two days a week with us.</li>\\n</ul>\\n<p>Does this sound like the perfect position for you? We look forward to receiving your application and getting to know you!  </p>\\n<p><em>Marta is an employer that promotes equal opportunities and diversity. We strive to create a friendly, safe, and welcoming environment for all our employees, regardless of ethnic origin, gender, gender identity and expression, sexual orientation, disabilities and abilities of any kind, physical appearance, social background, marital status, age, or religion (or lack thereof).</em> </p>\\n<p><em>In your application, we focus exclusively on your experience and motivation. You decide which additional information you want to disclose (photo, marital status, religion, gender, nationality, etc.). We value and treat all applications equally.</em> </p>\\n<p><em>Even if you do not meet 100% of our requirements, we encourage you to apply.</em></p>\\n<p>Find <a href=\"https://www.arbeitnow.com/\">Jobs in Germany</a> on Arbeitnow</a>',\n",
       "   '<p>Gemeinsam als Team entwickeln und betreuen wir Onlineshops für Startups, mittelständische Unternehmen und große Brands.</p>\\n<h2>Aufgaben</h2>\\n<p>Bei uns steht „E-Commerce“ an erster Stelle!</p>\\n<p><strong>Remote:</strong></p>\\n<p>Arbeite von wo immer du möchtest! Wir haben uns von konventionellen Bürostrukturen verabschiedet und setzen auf Remote-Work.</p>\\n<p><strong>Aufgaben:</strong></p>\\n<ul>\\n<li>\\n<p><strong>Eigenverantwortliche Projektumsetzung:</strong></p>\\n</li>\\n<li>\\n<p>Entwicklung und Integration von Webanwendungen mit <strong>NodeJS</strong>, <strong>TypeScript</strong>, <strong>Angular</strong>, und <strong>Next.js</strong>.</p>\\n</li>\\n<li>\\n<p>Optimierung und Erweiterung bestehender Anwendungen, inklusive Frontend und Backend.</p>\\n</li>\\n<li>\\n<p><strong>Umsetzung moderner Designs:</strong></p>\\n</li>\\n<li>\\n<p>Enge Zusammenarbeit mit Designern zur Implementierung von ansprechenden und funktionalen Benutzeroberflächen.</p>\\n</li>\\n<li>\\n<p>Umsetzung von Komponenten und Layouts in <strong>HTML</strong>, <strong>SCSS</strong>, <strong>Typescript</strong> und Frameworks wie Angular und Next.js.</p>\\n</li>\\n<li>\\n<p><strong>Erweiterung und Skalierung:</strong></p>\\n</li>\\n<li>\\n<p>Entwicklung performanter Backend-Funktionen mit NodeJS und TypeScript.</p>\\n</li>\\n<li>\\n<p>Aufbau und Integration von APIs sowie Datenbanken.</p>\\n</li>\\n<li>\\n<p><strong>Testing &#x26; Qualitätssicherung:</strong></p>\\n</li>\\n<li>\\n<p>Durchführung von Unit- und Integrationstests.</p>\\n</li>\\n<li>\\n<p>Sicherstellung von Code-Qualität und Einhaltung moderner Standards.</p>\\n</li>\\n<li>\\n<p><strong>Teamwork &#x26; Projektmanagement:</strong></p>\\n</li>\\n<li>\\n<p>Technische und konzeptionelle Planung von Sprints in enger Zusammenarbeit mit dem Team.</p>\\n</li>\\n<li>\\n<p>Delegation von Arbeitspaketen an interne und externe Entwickler.</p>\\n</li>\\n</ul>\\n<h2>Qualifikation</h2>\\n<ul>\\n<li>Leidenschaft für die Entwicklung moderner Web- und Fullstack-Anwendungen.</li>\\n<li>Fundierte Kenntnisse in <strong>NodeJS, NestJS</strong>, <strong>TypeScript</strong>, <strong>HTML</strong>, <strong>SCSS</strong>, <strong>Tailwind</strong> sowie Frameworks wie <strong>Angular</strong> und <strong>Next.js</strong>.</li>\\n<li>Motivation, sich stetig weiterzuentwickeln und Herausforderungen mit Begeisterung anzugehen.</li>\\n<li>Optional: Erfahrung in der Arbeit mit APIs, Datenbanken und Deployment-Strategien.</li>\\n<li>Deutsch</li>\\n</ul>\\n<h2>Benefits</h2>\\n<ul>\\n<li>Werde Teil einer Shopify Agentur.</li>\\n<li>Flexible Arbeitszeiten und Orte – Vertrauen steht bei uns an erster Stelle!</li>\\n<li>Eigenverantwortliches und unabhängiges Arbeiten.</li>\\n<li>Ein unterstützendes Team, das stets an deiner Seite steht.</li>\\n<li>Attraktive Vergütung.</li>\\n<li>Arbeit mit modernster Technologie.</li>\\n<li>MacBook</li>\\n</ul>\\n<p>Du brennst für cleanen Code, innovative Lösungen und möchtest in einem Umfeld arbeiten, das Kreativität und Eigeninitiative fördert? Bei uns hast du die Chance, spannende Projekte umzusetzen und die Zukunft aktiv mitzugestalten. Wir freuen uns auf deine Bewerbung und darauf, dich kennenzulernen! 🚀</p>\\n<p>Find more <a href=\"https://www.arbeitnow.com/english-speaking-jobs\">English Speaking Jobs in Germany</a> on Arbeitnow</a>',\n",
       "   '<ul>\\n<li>Als unabhängiges Unternehmen leben wir digitale Kultur und sind daher immer für unsere Kunden da, wenn es um Dienstleistungen oder Komplettlösungen aus der IT-Welt geht. Ob Informationssicherheit, Cloud, Rechenzentren oder Anwender-Support: Bei uns kannst du deine Stärken voll ausspielen, denn wir setzen auf das Miteinander und fördern kreative Köpfe. Dank vielfältiger Lerninhalte, der vorteilhaften Kombination aus Theorie und Praxis.</li>\\n<li>Ein junges, lockeres und engagiertes Team mit viel Freiraum für deine eigenen Ideen</li>\\n<li>Flache Hierarchien, offene Türen und kurze Entscheidungswege</li>\\n<li>Intensive Betreuung vom ersten Ausbildungstag bis zur Abschlussprüfung</li>\\n<li>Eine hohe Übernahmequote nach der bestandenen Ausbildung</li>\\n<li>Verschiedene Schulungen, um dein Wissen und deine Soft Skills zu erweitern</li>\\n<li>Förderung von Sport durch Zuschüsse für Fitnessstudios</li>\\n</ul>\\n<h2>Aufgaben</h2>\\n<p><strong>Deine Aufgaben:</strong></p>\\n<p>Du bist immer dann gefragt, wenn es um Netzwerke, Server und PCs geht und entwickelst dich zum Spezialisten für die Planung, den Aufbau und die Administration von individuellen IT-Lösungen für interne oder externe Kunden.</p>\\n<p><strong>Schwerpunkte der Ausbildung:</strong></p>\\n<ul>\\n<li>Inbetriebnahme und Installation von IT und Netzwerksystemen</li>\\n<li>Administrieren und Betreuen von IT-Systemen</li>\\n<li>Mitarbeit bei der Planung und Realisierung kundenspezifischer IT-Lösungen durch Integration von Hard- und Software-Komponenten</li>\\n<li>Selbstständiges Eingrenzen und Beheben auftretender Störungen und Fehler</li>\\n</ul>\\n<h2>Qualifikation</h2>\\n<ul>\\n<li>abgeschlossene Schulbildung mit (Fach-) Hochschulreife oder gutem Realschulabschluss</li>\\n<li>Verständnis für informationstechnische und wirtschaftliche Zusammenhänge</li>\\n<li>Interesse für Datenverarbeitung und Programmiersprachen</li>\\n<li>Begeisterung für Technik</li>\\n<li>hohes Maß an Eigenständigkeit und Engagement</li>\\n<li>Neugierde und Spaß am Lernen</li>\\n<li>gute Deutsch-, Englisch- und Mathematikkenntnisse </li>\\n<li>Du kannst gut im Team arbeiten, bist sorgfältig und diszipliniert</li>\\n</ul>\\n<p>Seit über 30 Jahren verbinden wir erfolgreich Mensch und Arbeit. Unser Fokus ist gegenseitiger Respekt und Wertschätzung sowie Spaß am Arbeitsplatz. Bei uns steht der Kunde im Mittelpunkt.</p>\\n<p>Find more <a href=\"https://www.arbeitnow.com/english-speaking-jobs\">English Speaking Jobs in Germany</a> on Arbeitnow</a>']],\n",
       " 'uris': None,\n",
       " 'data': None,\n",
       " 'metadatas': [[{'company_name': 'CrossCommerce GmbH',\n",
       "    'job_types': \"['Working student']\",\n",
       "    'location': 'Würzburg',\n",
       "    'remote': False,\n",
       "    'tags': \"['Software Development']\",\n",
       "    'title': 'Werkstudent:in KI-Entwicklung',\n",
       "    'url': 'https://www.arbeitnow.com/jobs/companies/crosscommerce-gmbh/werkstudentin-ki-entwicklung-wurzburg-7352'},\n",
       "   {'company_name': 'avasis solutions GmbH',\n",
       "    'job_types': \"['berufserfahren']\",\n",
       "    'location': 'Hamburg',\n",
       "    'remote': True,\n",
       "    'tags': \"['Remote', 'Software Development']\",\n",
       "    'title': 'Software Entwickler:in (Product Development & Support Team) (m/f/d)',\n",
       "    'url': 'https://www.arbeitnow.com/jobs/companies/avasis-solutions-gmbh/software-entwicklerin-product-development-support-team-hamburg-122191'},\n",
       "   {'company_name': 'Flix',\n",
       "    'job_types': '[]',\n",
       "    'location': 'Berlin, Berlin, Germany',\n",
       "    'remote': False,\n",
       "    'tags': '[]',\n",
       "    'title': 'Senior Project Manager – Network Planning (m/f/d)',\n",
       "    'url': 'https://www.arbeitnow.com/jobs/companies/flix/senior-project-manager-network-planning-berlin-7229'},\n",
       "   {'company_name': 'Seiwert GmbH',\n",
       "    'job_types': \"['berufserfahren']\",\n",
       "    'location': 'Frankfurt',\n",
       "    'remote': False,\n",
       "    'tags': \"['SAP/ERP Consulting', 'Development']\",\n",
       "    'title': 'Mitarbeiter/in im ERP Support (m/w/d) (First-Level und Second-Level)',\n",
       "    'url': 'https://www.arbeitnow.com/jobs/companies/seiwert-gmbh/mitarbeiter-in-im-erp-support-first-level-und-second-level-frankfurt-318039'},\n",
       "   {'company_name': 'CrossCommerce GmbH',\n",
       "    'job_types': \"['Working student', 'hilfstätigkeit / student']\",\n",
       "    'location': 'Würzburg',\n",
       "    'remote': False,\n",
       "    'tags': \"['Product Management']\",\n",
       "    'title': 'Werkstudent:in Customer Success + Social Media',\n",
       "    'url': 'https://www.arbeitnow.com/jobs/companies/crosscommerce-gmbh/werkstudentin-customer-success-social-media-wurzburg-301870'},\n",
       "   {'company_name': 'Rahantech GmbH',\n",
       "    'job_types': \"['entry']\",\n",
       "    'location': 'Frankfurt',\n",
       "    'remote': False,\n",
       "    'tags': \"['Engineering']\",\n",
       "    'title': 'Software Developer (m/f/d)',\n",
       "    'url': 'https://www.arbeitnow.com/jobs/companies/rahantech-gmbh/software-developer-frankfurt-125377'},\n",
       "   {'company_name': 'Vality One Recruitment GmbH',\n",
       "    'job_types': '[]',\n",
       "    'location': 'Bonn',\n",
       "    'remote': False,\n",
       "    'tags': \"['IT']\",\n",
       "    'title': 'Product Manager (gn)',\n",
       "    'url': 'https://www.arbeitnow.com/jobs/companies/vality-one-recruitment-gmbh/product-manager-gn-bonn-358908'},\n",
       "   {'company_name': 'marta',\n",
       "    'job_types': \"['Internship', 'no experience required / student']\",\n",
       "    'location': 'Berlin',\n",
       "    'remote': False,\n",
       "    'tags': \"['Business Development']\",\n",
       "    'title': 'Copy of Founders Associate Intern - Strategy, Operations & Investor Relations (m/f/d)',\n",
       "    'url': 'https://www.arbeitnow.com/jobs/companies/marta/copy-of-founders-associate-intern-strategy-operations-investor-relations-berlin-413210'},\n",
       "   {'company_name': 'Codext GmbH',\n",
       "    'job_types': '[]',\n",
       "    'location': 'Wolpertshausen',\n",
       "    'remote': True,\n",
       "    'tags': \"['Remote', 'Software Development']\",\n",
       "    'title': 'Fullack Developer - NodeJS / Typescript / HTML / SCSS / Angular / NextJs',\n",
       "    'url': 'https://www.arbeitnow.com/jobs/companies/codext-gmbh/fullack-developer-nodejs-typescript-html-scss-angular-nextjs-wolpertshausen-131641'},\n",
       "   {'company_name': 'WCV IT GmbH',\n",
       "    'job_types': \"['Apprenticeship', 'berufseinstieg']\",\n",
       "    'location': 'Oberhausen',\n",
       "    'remote': False,\n",
       "    'tags': \"['IT']\",\n",
       "    'title': 'Ausbildung Fachinformatiker Systemintegration in Oberhausen',\n",
       "    'url': 'https://www.arbeitnow.com/jobs/companies/wcv-it-gmbh/ausbildung-fachinformatiker-systemintegration-in-oberhausen-146288'}]],\n",
       " 'distances': [[0.35338646173477173,\n",
       "   0.3654800057411194,\n",
       "   0.36898237466812134,\n",
       "   0.3742073178291321,\n",
       "   0.3862046003341675,\n",
       "   0.38672828674316406,\n",
       "   0.39511775970458984,\n",
       "   0.39954549074172974,\n",
       "   0.4009186029434204,\n",
       "   0.4017843008041382]],\n",
       " 'included': [<IncludeEnum.distances: 'distances'>,\n",
       "  <IncludeEnum.documents: 'documents'>,\n",
       "  <IncludeEnum.metadatas: 'metadatas'>]}"
      ]
     },
     "execution_count": 96,
     "metadata": {},
     "output_type": "execute_result"
    }
   ],
   "source": [
    "top_results"
   ]
  },
  {
   "cell_type": "markdown",
   "id": "acbc9213",
   "metadata": {},
   "source": [
    "Add search for the metadata (internship, WS, professional, etc.)"
   ]
  },
  {
   "cell_type": "markdown",
   "id": "8d3261b4",
   "metadata": {},
   "source": [
    "### Step 2: generate cover letter"
   ]
  },
  {
   "cell_type": "markdown",
   "id": "a61d113d",
   "metadata": {},
   "source": [
    "Iterate over all top-k jobs and extract most relevant chunks"
   ]
  },
  {
   "cell_type": "code",
   "execution_count": 63,
   "id": "8a2ecd6e",
   "metadata": {},
   "outputs": [],
   "source": [
    "cv_chunks = chunks"
   ]
  },
  {
   "cell_type": "code",
   "execution_count": 97,
   "id": "198c4115",
   "metadata": {},
   "outputs": [],
   "source": [
    "top_job_ids = top_results['ids'][0]"
   ]
  },
  {
   "cell_type": "code",
   "execution_count": 98,
   "id": "a0d42e77",
   "metadata": {},
   "outputs": [],
   "source": [
    "top_job_descriptions = job_collections_unsplit.get(\n",
    "    ids=top_job_ids\n",
    ")['documents']"
   ]
  },
  {
   "cell_type": "code",
   "execution_count": 109,
   "id": "65635a0f",
   "metadata": {},
   "outputs": [],
   "source": [
    "top_job_matches = job_collections_unsplit.get(\n",
    "    ids=top_job_ids\n",
    ")"
   ]
  },
  {
   "cell_type": "code",
   "execution_count": 110,
   "id": "068581c4",
   "metadata": {},
   "outputs": [],
   "source": [
    "job_to_apply_to = [f\"Company name: {top_job_matches['metadatas'][i]['company_name']}\\nJob title: {top_job_matches['metadatas'][i]['title']}\\nJob type: {top_job_matches['metadatas'][i]['job_types']}\\nJob description: {top_job_matches['documents'][i]}\" for i in range(len(top_job_matches['ids']))]"
   ]
  },
  {
   "cell_type": "code",
   "execution_count": 112,
   "id": "75df1588",
   "metadata": {},
   "outputs": [],
   "source": [
    "top_cv_matches = cv_collection.query(\n",
    "    query_embeddings=[get_embedding(el) for el in top_job_descriptions],\n",
    "    # query_texts=[\"doc10\", \"thus spake zarathustra\", ...],\n",
    "    n_results=10,\n",
    "    # include=['embeddings', 'documents', 'metadatas']\n",
    "    # where={\"metadata_field\": \"is_equal_to_this\"},\n",
    "    # where_document={\"$contains\":\"search_string\"}\n",
    ")"
   ]
  },
  {
   "cell_type": "code",
   "execution_count": 100,
   "id": "ac0f80e8",
   "metadata": {},
   "outputs": [
    {
     "name": "stdout",
     "output_type": "stream",
     "text": [
      "Job description:\n",
      "<h2>Tasks</h2>\n",
      "<ul>\n",
      "<li><strong>Develop and maintain high-quality software solutions</strong> using modern technologies.</li>\n",
      "<li>Work on <strong>innovative and large-scale projects</strong> that impact businesses globally.</li>\n",
      "<li>Collaborate with <strong>cross-functional teams</strong> to design, build and deploy software applications.</li>\n",
      "<li>Use programming languages such as <strong>Python, Java, C#, JavaScript, PHP or any other language</strong> to create <strong>scalable and high-performance applications</strong>.</li>\n",
      "<li>Ensure <strong>code quality, security and efficiency</strong> through best practices.</li>\n",
      "<li>Participate in <strong>Agile/Scrum methodologies</strong> to deliver projects efficiently.</li>\n",
      "<li>Continuously <strong>learn and implement new technologies</strong> to stay ahead in the industry.</li>\n",
      "</ul>\n",
      "<h2>Requirements</h2>\n",
      "<ul>\n",
      "<li>You have experience in <strong>ANY programming language</strong> (Python, Java, C#, JavaScript, PHP, etc.).</li>\n",
      "<li>You are skilled in <strong>web, mobile or backend development</strong>.</li>\n",
      "<li>You have a <strong>degree in Computer Science, IT or equivalent experience</strong>.</li>\n",
      "<li>You have experience with <strong>databases (SQL, MySQL, PostgreSQL, MongoDB, etc.)</strong>.</li>\n",
      "<li>Familiarity with <strong>Git, CI/CD, DevOps tools, and cloud platforms (AWS, Azure, Google Cloud)</strong> is a plus.</li>\n",
      "<li>You <strong>love problem-solving and enjoy working on exciting projects</strong>.</li>\n",
      "<li>You <strong>MUST be residing in Germany</strong> and looking for your next career step.</li>\n",
      "<li>You are fluent in <strong>English</strong> (German is a plus but <strong>not required</strong>).</li>\n",
      "</ul>\n",
      "<p>Find <a href=\"https://www.arbeitnow.com/\">Jobs in Germany</a> on Arbeitnow</a>\n",
      "Best CV matches:\n",
      "['– Skills: Fine-Tuning, Pre-training LLMs, Clustering, Scraping, Word2Vec, GPT4 API, Data annotation,\\nCrowdsourcing, Academic writing, Presentation', 'from 39% to 92% on a custom dataset\\nSkills: Fine-tuning • Prompt-tuning LLMs• Data collection• UX (Streamlit)• Chatbots • User\\nInteraction planning', 'Skills: LDA topic modeling• Data processing• Scraping • Working with APIs• Data visualization', 'using LLMs;\\nsupervised byProf. Dr. Ingmar Weber.Data sources: websites, social media, YouTube', 'Machine Learning\\nLanguages: English (C1)• Russian (native speaker)• German (B2)• Polish (B2)• Kazakh (B1)\\nWork experience', 'plotly, BeautifulSoup, GeoPandas, HTML, CSS;Programming languages: Python, R\\nTools: Git, LaTeX, VSCode, HuggingFace, Docker, PowerBI', 'Nursulu Sagimbayeva /envel⌢penurs.sagimbayeva@gmail.com\\nMunich/ Saarbrücken, Germany /githubnursaltyn.github.io', '– Participated in projects on investment topics\\n– Skills: LLMs, RAG, PowerBI, Data Analysis Automation, Machine Learning, Capital Markets', 'insight in the industry while working on challenging NLP/AI topics.\\n/mediumMedium', 'Skills: Ridge regression• Bootstrapping • Noise ceiling estimation• Work with fMRI data (reading and\\nlistening) • LLMs']\n",
      "Job description:\n",
      "<h2>About the Job</h2>\n",
      "<p>marta aims to enable every person in need of care to age with dignity in their own home. To achieve this, we connect individuals in need of care directly with the best caregivers through our digital platform and simplify and digitize the entire organizational process—from the search, to the contract signing, to the caregiver's arrival and departure. This approach not only makes organizing a caregiver transparent, affordable, and reliable, but also enables caregivers to earn a salary 30% above the market average.  </p>\n",
      "<p>marta was founded in 2021 and is active in 4 countries. We have offices in Berlin, Sibiu (Romania), Gdańsk (Poland), and over 60 team members from more than 10 countries. Our investors include Capnamic, Almaz Capital, RTL Ventures, Swiss Health Ventures, and many renowned angel investors such as Christian Vollmann (C1 Green Chemicals) and Marc Christ (SumUp).  </p>\n",
      "<p>This is a full-time position based in Berlin for a <strong>6</strong> <strong>months</strong>. If you want to work in an innovative and fast-paced environment and help address the care crisis, we look forward to receiving your application!</p>\n",
      "<h2>Your Role in our team</h2>\n",
      "<p>As a Founders Associate (m/f/d), you will report directly to the founders Jan and Philipp and support them with strategic and operational tasks.  </p>\n",
      "<h2>Your responsibilities include:</h2>\n",
      "<ul>\n",
      "<li>Support the founders Jan &#x26; Philipp in their day-to-day strategic &#x26; operative tasks</li>\n",
      "<li>Own the monthly investor reporting and support with quarterly board meetings</li>\n",
      "<li>Own the bi-weekly All-Hands meeting which is our most important internal communication tool</li>\n",
      "<li>Critically question, analyze and improve existing processes that enable a smooth running organization</li>\n",
      "<li>Support our Founders Associate Lukas in launching a new service vertical  \n",
      "<ul>\n",
      "<li>Further define &#x26; develop the GTM strategy: Research and analyze market trends, conduct competitor analysis, and recommend actions  </li>\n",
      "<li>Define &#x26; implement scalable processes to ensure smooth business operations  </li>\n",
      "<li>Support in matching hourly-based caregiver with careseekers in local markets  </li>\n",
      "<li>Define product specifications and hand over to product department</li>\n",
      "</ul>\n",
      "</li>\n",
      "</ul>\n",
      "<h2>Your Profile</h2>\n",
      "<ul>\n",
      "<li>You have completed your Bachelor at a top university or are the best in your year in any other school</li>\n",
      "<li>You are a team player. Working together as a team and sharing knowledge comes naturally to you</li>\n",
      "<li>You are ready and willing to take ownership</li>\n",
      "<li>You have gained first experience in fast-paced environments such as start-ups, consulting, etc.</li>\n",
      "<li>You are an entrepreneurial problem-solver who uses analytical skills and structured thinking to break down complex tasks</li>\n",
      "<li>You speak English &#x26; German fluently</li>\n",
      "</ul>\n",
      "<h2>Why marta?</h2>\n",
      "<ul>\n",
      "<li><strong>Purpose</strong>: You will work on an important mission and have the opportunity to positively influence the nursing care crisis.</li>\n",
      "<li><strong>Work Environment</strong>: We offer you a beautiful office at Nordbahnhof with state-of-the-art equipment and everything you need to work.</li>\n",
      "<li><strong>Events</strong>: In addition to our company celebrations, we have regular team events.</li>\n",
      "<li><strong>Career &#x26; Development</strong>: You will be part of an international team of over 60 employees and, in addition to regular feedback discussions, you will have many exciting growth and learning opportunities.</li>\n",
      "<li><strong>Hybrid Work</strong>: You have the opportunity to work from home two days a week with us.</li>\n",
      "</ul>\n",
      "<p>Does this sound like the perfect position for you? We look forward to receiving your application and getting to know you!  </p>\n",
      "<p><em>Marta is an employer that promotes equal opportunities and diversity. We strive to create a friendly, safe, and welcoming environment for all our employees, regardless of ethnic origin, gender, gender identity and expression, sexual orientation, disabilities and abilities of any kind, physical appearance, social background, marital status, age, or religion (or lack thereof).</em> </p>\n",
      "<p><em>In your application, we focus exclusively on your experience and motivation. You decide which additional information you want to disclose (photo, marital status, religion, gender, nationality, etc.). We value and treat all applications equally.</em> </p>\n",
      "<p><em>Even if you do not meet 100% of our requirements, we encourage you to apply.</em></p>\n",
      "<p>Find <a href=\"https://www.arbeitnow.com/\">Jobs in Germany</a> on Arbeitnow</a>\n",
      "Best CV matches:\n",
      "['using LLMs;\\nsupervised byProf. Dr. Ingmar Weber.Data sources: websites, social media, YouTube', 'Nursulu Sagimbayeva /envel⌢penurs.sagimbayeva@gmail.com\\nMunich/ Saarbrücken, Germany /githubnursaltyn.github.io', 'Work experience\\n•Internship Financial Assets & Solutions Data Analytics November 2024-May 2025\\nMunich RE Munich, Germany', 'Open to relocation /linkedinLinkedIn Profile\\n♂phone+4917674754101\\nProfile: I am a Master’s student in my last year, with background in', 'Machine Learning\\nLanguages: English (C1)• Russian (native speaker)• German (B2)• Polish (B2)• Kazakh (B1)\\nWork experience', 'from 39% to 92% on a custom dataset\\nSkills: Fine-tuning • Prompt-tuning LLMs• Data collection• UX (Streamlit)• Chatbots • User\\nInteraction planning', 'insight in the industry while working on challenging NLP/AI topics.\\n/mediumMedium', '– Skills: Fine-Tuning, Pre-training LLMs, Clustering, Scraping, Word2Vec, GPT4 API, Data annotation,\\nCrowdsourcing, Academic writing, Presentation', 'Education\\n•M.Sc. in Natural Language Processing, current GPA: 1.5 (best: 1.0) October 2022-currently\\nSaarland University Saarbrücken, Germany', 'Crowdsourcing, Academic writing, Presentation\\n•Technical Content Writer July 2022-July 2023\\nHasty.ai (CloudFactory) Berlin, Germany (remote)']\n",
      "Job description:\n",
      "<p>We're looking for a motivated and driven<strong> (Senior) Project Manager – Network Planning</strong> <strong>(m/f/d)</strong> who will help us shape our team, drive the company to the next level, and have the most direct influence on our success.</p>\n",
      "<p>Network Planning Department - the architect of our business, collaborating closely with commercial functions, business development and operations to design the network, allocate bus types, manage timetables, and drive efficiencies.</p>\n",
      "<p>This is a key role responsible for driving the successful execution and implementation of our Network Planning projects. You will collaborate cross-functionally (with NP business teams, NP Business owner, and non-NP teams) to ensure projects are completed on time, within budget, and to the highest quality standards. The Project Manager will play a crucial role in in enhancing NP process unification, improving efficiency, and contributing to the overall success of our network planning initiatives.</p>\n",
      "<h3><strong>Your Tasks – Paint the world green</strong></h3>\n",
      "<p><strong>Project Planning and Execution:</strong></p>\n",
      "<ul>\n",
      "<li>Develop comprehensive project plans, including timelines, milestones, resource allocation, and budgets.</li>\n",
      "<li>Lead the execution of projects, ensuring alignment with strategic goals and objectives.</li>\n",
      "<li>Monitor project progress, identify and mitigate risks, and adjust plans as needed.</li>\n",
      "<li>Ensure projects are completed on time, within budget, and to the satisfaction of stakeholders.</li>\n",
      "</ul>\n",
      "<p><strong>Cross-Functional Collaboration:</strong></p>\n",
      "<ul>\n",
      "<li>Collaborate with teams across the organization, including network planning, business development, operations, revenue management and IT.</li>\n",
      "<li>Build strong relationships with stakeholders to ensure alignment and support for projects.</li>\n",
      "<li>Facilitate team meetings and progress check-ins.</li>\n",
      "<li>Manage communication between teams and stakeholders.</li>\n",
      "</ul>\n",
      "<p><strong>Reporting &amp; Documentation:</strong></p>\n",
      "<ul>\n",
      "<li>Track progress and update project dashboard</li>\n",
      "<li>Maintain clear documentation of milestones and key decisions</li>\n",
      "<li>Gather and analyse data to track project performance and identify areas for improvement.</li>\n",
      "<li>Prepare regular reports on project status, key metrics, and insights.</li>\n",
      "</ul>\n",
      "<p><strong>Customer Focus:</strong></p>\n",
      "<ul>\n",
      "<li>Maintain a strong focus on customer needs and expectations throughout the project lifecycle.</li>\n",
      "<li>Ensure projects deliver measurable improvements in customer satisfaction</li>\n",
      "</ul>\n",
      "<p><strong>Development of solution:</strong></p>\n",
      "<ul>\n",
      "<li>Lead brainstorming sessions and workshops to generate solutions for various work streams</li>\n",
      "<li>Use data to drive decision-making and optimize project outcomes.</li>\n",
      "<li>Conduct post-project evaluation and gather feedback</li>\n",
      "</ul>\n",
      "<h3><strong>Your Profile – Ready to hop on board</strong></h3>\n",
      "<p><strong>Education and Experience:</strong></p>\n",
      "<ul>\n",
      "<li>Bachelor's degree in engineering, economics or business administration.</li>\n",
      "<li>Knowledge of the business and network planning processes is a plus.</li>\n",
      "<li>Demonstrated track record of managing complex projects from inception to completion.</li>\n",
      "</ul>\n",
      "<p><strong>Skills:</strong></p>\n",
      "<ul>\n",
      "<li>Strong project management skills, including planning, scheduling, budgeting, and risk management.</li>\n",
      "<li>Knowledge of PM software and tools (Jira, Asana, MS Project) is a plus</li>\n",
      "<li>Knowledge of Agile, Scrum, Waterfall, and hybrid methodologies is a plus</li>\n",
      "<li>Excellent communication and interpersonal skills, with the ability to build relationships across the organization.</li>\n",
      "<li>Time and Task Management: Prioritizing tasks and meeting deadlines, efficient scheduling, workflow optimization</li>\n",
      "<li>Strong analytical and problem-solving skills, with the ability to gather and interpret data to drive decision-making, decision making under pressure</li>\n",
      "</ul>\n",
      "<p><strong>Abilities:</strong></p>\n",
      "<ul>\n",
      "<li>Ability to work independently and as part of a team.</li>\n",
      "<li>Excellent organizational and time management skills.</li>\n",
      "<li>Results-oriented and driven to achieve success.</li>\n",
      "</ul>\n",
      "<h3><strong>Our Perks – More than just a job</strong></h3>\n",
      "<ul>\n",
      "<li style=\"text-align: justify;\">You have an impact. <span class=\"TextRun SCXP197452118 BCX0\" lang=\"EN-US\" data-scheme-color=\"@444444,,\" data-usefontface=\"true\" data-contrast=\"none\"><span class=\"NormalTextRun SCXP197452118 BCX0\">With innovation and smart technology,&nbsp;</span></span><span class=\"TextRun SCXP197452118 BCX0\" lang=\"EN-US\" data-scheme-color=\"@444444,,\" data-usefontface=\"true\" data-contrast=\"none\"><span class=\"NormalTextRun SCXP197452118 BCX0\">we are</span><span class=\"NormalTextRun SCXP197452118 BCX0\">&nbsp;creating the easiest way to travel. We want your ideas&nbsp;</span></span><span class=\"TextRun SCXP197452118 BCX0\" lang=\"EN-US\" data-scheme-color=\"@444444,,\" data-usefontface=\"true\" data-contrast=\"none\"><span class=\"NormalTextRun SCXP197452118 BCX0\">and give you autonomy to make them reality.</span></span><span class=\"EOP SCXP197452118 BCX0\">​</span></li>\n",
      "<li style=\"text-align: justify;\">Flix is flexible. Organize your own schedule with trust-based hours and up to 60 days of working from (m)anywhere. We are an office-first company, and we encourage all employees to come regularly to their local office.</li>\n",
      "<li style=\"text-align: justify;\">Travelling is our passion. <span class=\"TextRun SCXP178056135 BCX0\" lang=\"EN-US\" data-scheme-color=\"@444444,,\" data-usefontface=\"true\" data-contrast=\"none\"><span class=\"NormalTextRun SCXP178056135 BCX0\">Discover the world with your free&nbsp;</span></span><span class=\"TextRun SCXP178056135 BCX0\" lang=\"EN-US\" data-scheme-color=\"@444444,,\" data-usefontface=\"true\" data-contrast=\"none\"><span class=\"NormalTextRun SCXP178056135 BCX0\">Flix rides and bring along your friends and family for half&nbsp;</span></span><span class=\"TextRun SCXP178056135 BCX0\" lang=\"EN-US\" data-scheme-color=\"@444444,,\" data-usefontface=\"true\" data-contrast=\"none\"><span class=\"NormalTextRun SCXP178056135 BCX0\">price.</span></span></li>\n",
      "<li style=\"text-align: justify;\">Teamwork makes the dream work. <span class=\"TextRun  BCX0 SCXP264504940\" lang=\"EN-US\" data-scheme-color=\"@444444,,\" data-usefontface=\"true\" data-contrast=\"none\"><span class=\"NormalTextRun  BCX0 SCXP264504940\">Our&nbsp;</span></span><span class=\"TextRun  BCX0 SCXP264504940\" lang=\"EN-US\" data-scheme-color=\"@444444,,\" data-usefontface=\"true\" data-contrast=\"none\"><span class=\"SpellingError  BCX0 SCXP264504940\">FlixTeam</span></span><span class=\"TextRun  BCX0 SCXP264504940\" lang=\"EN-US\" data-scheme-color=\"@444444,,\" data-usefontface=\"true\" data-contrast=\"none\"><span class=\"NormalTextRun  BCX0 SCXP264504940\">&nbsp;has people&nbsp;</span></span><span class=\"TextRun  BCX0 SCXP264504940\" lang=\"EN-US\" data-scheme-color=\"@444444,,\" data-usefontface=\"true\" data-contrast=\"none\"><span class=\"NormalTextRun  BCX0 SCXP264504940\">from over 80 different nations. We work in a multicultural&nbsp;</span></span><span class=\"TextRun  BCX0 SCXP264504940\" lang=\"EN-US\" data-scheme-color=\"@444444,,\" data-usefontface=\"true\" data-contrast=\"none\"><span class=\"NormalTextRun  BCX0 SCXP264504940\">environment where we can challenge and support each other.</span></span></li>\n",
      "<li style=\"text-align: justify;\">We're not only green in color. <span class=\"TextRun  BCX0 SCXP262295364\" lang=\"EN-US\" data-scheme-color=\"@444444,,\" data-usefontface=\"true\" data-contrast=\"none\"><span class=\"NormalTextRun  BCX0 SCXP262295364\">We're</span><span class=\"NormalTextRun  BCX0 SCXP262295364\">&nbsp;building for the long&nbsp;</span></span><span class=\"TextRun  BCX0 SCXP262295364\" lang=\"EN-US\" data-scheme-color=\"@444444,,\" data-usefontface=\"true\" data-contrast=\"none\"><span class=\"NormalTextRun  BCX0 SCXP262295364\">term, and that means protecting our planet. We constantly&nbsp;</span></span><span class=\"TextRun  BCX0 SCXP262295364\" lang=\"EN-US\" data-scheme-color=\"@444444,,\" data-usefontface=\"true\" data-contrast=\"none\"><span class=\"NormalTextRun  BCX0 SCXP262295364\">test new green technologies and compensate for the CO2&nbsp;</span></span><span class=\"TextRun  BCX0 SCXP262295364\" lang=\"EN-US\" data-scheme-color=\"@444444,,\" data-usefontface=\"true\" data-contrast=\"none\"><span class=\"NormalTextRun  BCX0 SCXP262295364\">after all our business travel since 2018.</span></span></li>\n",
      "<li style=\"text-align: justify;\">Your well-being is important to us. To treat your mind and body we will give you a competitive paid time off package, mental health support including 1:1 consultations with a psychologist, and a neat discount on UrbanSportsClub memberships.</li>\n",
      "</ul>\n",
      "<p><strong>Want to rewrite the history of mobility with us? Then join our ride and apply now. We're excited to hear from you!&nbsp; </strong><strong>We recognize that everyone carries a unique set of valuable skills and experiences. If you think you could have an impact even though you don't meet 100% of the requirements, we still encourage you to apply. <span style=\"color: rgb(255, 255, 255);\">#LI-Hybrid</span></strong></p>\n",
      "<hr>\n",
      "<p><strong>About Flix</strong></p>\n",
      "<p style=\"text-align: justify;\">We are a global mobility provider with headquarters in Europe and the United States. Since 2013, we have changed the way millions of people have traveled, offering new alternatives for convenient, affordable and eco-friendly travel. Thanks to a unique business model and innovative technology, we have quickly established one of the largest long-distance mobility networks in the world – and our journey has just begun.</p>\n",
      "<div style=\"text-align: justify;\">Flix is proud to be an Equal Opportunity Employer. We celebrate diversity and do not discriminate on the basis of race, color, religion, gender (including pregnancy and gender identity), national, social or ethnic origin, political affiliation, sexual orientation, marital status, disability, age, veteran status, or other legally protected characteristics. All employment decisions are based on business needs, job requirements, competence and merit.</div>\n",
      "<p>The following video shows our amazing success story:</p>\n",
      "<p><iframe src=\"https://www.youtube.com/embed/_6HdeaH91Sg\" width=\"562\" height=\"315\"></iframe></p>\n",
      "<p>&nbsp;</p><p>Find <a href=\"https://www.arbeitnow.com/\">Jobs in Germany</a> on Arbeitnow</a>\n",
      "Best CV matches:\n",
      "['from 39% to 92% on a custom dataset\\nSkills: Fine-tuning • Prompt-tuning LLMs• Data collection• UX (Streamlit)• Chatbots • User\\nInteraction planning', '– Skills: Fine-Tuning, Pre-training LLMs, Clustering, Scraping, Word2Vec, GPT4 API, Data annotation,\\nCrowdsourcing, Academic writing, Presentation', 'Skills: Prompt optimization• Data collection• Data visualization• Streamlit', 'using LLMs;\\nsupervised byProf. Dr. Ingmar Weber.Data sources: websites, social media, YouTube', 'insight in the industry while working on challenging NLP/AI topics.\\n/mediumMedium', 'Skills: Recommendation systems• User interviewing• Data Collection• Streamlit', '• GoTogether: A restaurant recommendation app that considers preferences of 2+ users', '2023-2025: 16%)\\n• 2023: Best paper award at the NetMob data Challenge 2023.', 'Skills: Ridge regression• Bootstrapping • Noise ceiling estimation• Work with fMRI data (reading and\\nlistening) • LLMs', 'Machine Learning\\nLanguages: English (C1)• Russian (native speaker)• German (B2)• Polish (B2)• Kazakh (B1)\\nWork experience']\n",
      "Job description:\n",
      "<p>Wir haben unser Team gefragt:</p>\n",
      "<p>Welche Fähigkeiten benötigen wir?</p>\n",
      "<p><strong>Auf den ersten Blick passen wir zusammen, wenn:</strong> </p>\n",
      "<ul>\n",
      "<li>…Du Lust hast mit einem Tool zu arbeiten, das auf Webtechnologien basiert und revisionssicher mit Apache Subversion arbeitet (Polarion).</li>\n",
      "<li>…Du gerne zeitnah mit uns durchstarten möchtest.</li>\n",
      "<li>…Dir Netzwerk- und Sicherheitsmanagement genauso viel Spaß macht  wie die Verwaltung und Wartung von Servern.</li>\n",
      "<li>…ein Bruttojahresgehalt ab 50.000 Euro bei 40 Wochenarbeitsstunden zu Deinen Vorstellungen passt. Lass uns gerne wissen, welches Jahresgehalt Du Dir konkret vorstellst.</li>\n",
      "<li>…Du Motivation, Menschlichkeit &#x26; Spaß an Teamwork mitbringst. Ohne geht's nicht!</li>\n",
      "</ul>\n",
      "<h2>Aufgaben</h2>\n",
      "<p>Deine Rolle in unserem Product Development &#x26; Support Team:</p>\n",
      "<p>Womit möchtest Du an Wochentagen Deine Zeit verbringen?  </p>\n",
      "<p><strong>Serververwaltung und -wartung:</strong> Du wirst verantwortlich sein für die Einrichtung, Konfiguration und Wartung unserer Serverlandschaft. Dein Fokus liegt dabei auf der Sicherstellung eines reibungslosen und sicheren Betriebs unserer IT-Infrastruktur.</p>\n",
      "<p><strong>Ticketbearbeitung:</strong> In unserem engagierten Team kümmern wir uns effizient um eingehende Anfragen und Probleme. Du analysierst eigenständig die gemeldeten Tickets, findest nachhaltige Lösungen und sorgst dafür, dass die Kundensysteme optimal laufen.</p>\n",
      "<p><strong>Netzwerk- und Sicherheitsmanagement:</strong> Wir gewährleisten höchste Standards in Bezug auf Netzwerksicherheit und -performance. Du bist aktiv an der Überwachung und Verbesserung unserer Netzwerksicherheit beteiligt und implementierst notwendige Maßnahmen zur Gefahrenabwehr.</p>\n",
      "<p><strong>Technische Dokumentation:</strong> In der IT-Branche sind präzise Dokumentationen unerlässlich. Du erstellst und pflegst detaillierte technische Dokumentationen, die die Konfiguration, Wartung und Installation unserer Systeme vereinfachen. Diese Dokumentationen tragen nachhaltig zur Effizienz und Standardisierung bei.</p>\n",
      "<p><strong>Zusammenarbeit im Team:</strong> Unser Team arbeitet eng zusammen und vereint eine Vielfalt an Expertise. Du wirst mit anderen Administrator:innen, Entwickler:innen, Produktmanager:innen kooperieren, um sicherzustellen, dass unsere IT-Infrastruktur den neuesten Standards und Anforderungen entspricht. Gemeinsam verbessern wir kontinuierlich unsere Systeme und Prozesse.</p>\n",
      "<h2>Qualifikation</h2>\n",
      "<p>Deine Persönlichkeit &#x26; Fähigkeiten</p>\n",
      "<p><strong>Must have:</strong> </p>\n",
      "<ul>\n",
      "<li>\n",
      "<p><strong>Spaß, Humor, Menschlichkeit</strong></p>\n",
      "</li>\n",
      "<li>\n",
      "<p><strong>Abgeschlossenes Studium oder vergleichbare Qualifikation:</strong> Du hast ein abgeschlossenes Studium in Informatik, Softwareentwicklung oder eine vergleichbare Qualifikation, die Deine technische Expertise untermauert.</p>\n",
      "</li>\n",
      "<li>\n",
      "<p><strong>Erfahrung in der Serververwaltung:</strong> Du verfügst über fundierte Kenntnisse in der Installation, Konfiguration und Fehlersuche von Servern in Linux- und/oder Windows-Umgebungen. Zu Deinen Werkzeugen gehören Technologien wie Apache, HTTPS, SVN und PostgreSQL.</p>\n",
      "</li>\n",
      "<li>\n",
      "<p><strong>IT-Administration und Infrastruktur:</strong> Du unterstützt aktiv unsere IT-Administration und Infrastruktur mit Expertise in Azure AD, Office 365, Windows und MacOS Clients, Ubuntu Server, OPNsense, Monitoring und Intune.</p>\n",
      "</li>\n",
      "<li>\n",
      "<p><strong>Skriptsprachen:</strong> Du bist versiert im Umgang mit Shell, PowerShell und Perl und kannst diese für die Erstellung und Automatisierung von Installationspaketen nutzen.</p>\n",
      "</li>\n",
      "<li>\n",
      "<p><strong>Selbstständige Arbeitsweise:</strong> Du arbeitest eigenständig und bist besonders geschickt in der Root Cause Analyse, um Probleme an der Wurzel zu lösen.</p>\n",
      "</li>\n",
      "<li>\n",
      "<p><strong>Kommunikationsstärke:</strong> Du verfügst über ausgezeichnete Kommunikationsfähigkeiten in Deutsch und Englisch, die Dir ermöglichen, effektiv im Team und mit Kunden zu interagieren.</p>\n",
      "<p><strong>Nice to have:</strong> </p>\n",
      "</li>\n",
      "<li>\n",
      "<p><strong>Branchenerfahrung:</strong> Idealerweise bringst Du Erfahrung in der MedTech-Branche mit und kennst die spezifischen Anforderungen und Herausforderungen dieses Bereichs.</p>\n",
      "</li>\n",
      "<li>\n",
      "<p><strong>Softwareentwicklung:</strong> Du hast nachgewiesene Erfahrung in der Softwareentwicklung und bist vertraut mit den aktuellen Methoden und Best Practices.</p>\n",
      "</li>\n",
      "<li>\n",
      "<p><strong>Programmierkenntnisse:</strong> Du bringst Programmierkenntnisse in Java, JavaScript, HTML und CSS mit und kannst diese für diverse Aufgaben einsetzen.</p>\n",
      "</li>\n",
      "<li>\n",
      "<p><strong>Polarion-Kenntnisse:</strong> Anpassung und Konfiguration von Polarion ist unser Alltag, um unseren Kunden maßgeschneiderte Lösungen zu entwickeln und zu implementieren.</p>\n",
      "</li>\n",
      "</ul>\n",
      "<h2>Benefits</h2>\n",
      "<p>Unser innovatives Arbeitsumfeld</p>\n",
      "<p><strong>Erholung</strong></p>\n",
      "<p>Wir legen großen Wert auf eine ausgeglichene Life-Work-Balance. Wir haben 30 Tage Urlaub pro Jahr und bieten neben der 40 Stundenwoche auch unterschiedliche Teilzeitmodelle an.</p>\n",
      "<p><strong>Weiterbildung</strong></p>\n",
      "<p>Uns ist wichtig, dass sich jeder weiterentwickeln kann. Ob interne oder externe Schulungen – wir wollen, dass Du wächst, und unterstützen Dich dabei!</p>\n",
      "<p><strong>Co-Working im Design Office</strong></p>\n",
      "<p>Unser Team hat, neben unserem Büro in Hamburg, auch die Möglichkeit alle Design Offices in ganz Deutschland zu nutzen. Zudem haben wir ein monatliches Budget zum Co-Worken – Treffen mit Deinem eigenen Team und teamübergreifendes Co-Working sind so jederzeit unkompliziert möglich.</p>\n",
      "<p><strong>Regelmäßige Teamevents</strong></p>\n",
      "<p>#avaFun ist garantiert ?. Wir treffen uns digital in wöchentlichen Teamcalls und analog dreimal jährlich deutschlandweit. Einmal im Jahr treffen wir uns analog europaweit mit unserem großartigen Team.</p>\n",
      "<p><strong>Flexibilität</strong></p>\n",
      "<p>Freiheit durch Home Office + Workations in Kombination mit Sicherheit durch flexible Arbeitszeiten, wertschätzende Gehälter und eine gesunde Unternehmenskultur.</p>\n",
      "<p><strong>Make an impact</strong></p>\n",
      "<p>Verändere eine der innovativsten Branchen – die Medizintechnik.<br>\n",
      "Lass uns gemeinsam zu einer besseren Patientenversorgung beitragen!</p>\n",
      "<p><strong>Über uns &#x26; unsere Mission</strong></p>\n",
      "<ul>\n",
      "<li><strong>avasis solutions GmbH</strong>: ein dynamisches, stark wachsendes Start-up und Teil der etablierten avasis Gruppe</li>\n",
      "<li><strong>Unsere Mission:</strong> Prozesse vereinfachen und Komplexität von Informationen in der Medizintechnik reduzieren. Damit leisten wir einen wichtigen Beitrag für eine bessere Patientenversorgung!</li>\n",
      "</ul>\n",
      "<p><strong>Wir freuen uns auf alle Bewerbungen</strong> - unabhängig von Geschlecht, Nationalität, ethnischer und sozialer Herkunft, Religion/Weltanschauung, Behinderung und Alter.</p>\n",
      "<p>Find <a href=\"https://www.arbeitnow.com/\">Jobs in Germany</a> on Arbeitnow</a>\n",
      "Best CV matches:\n",
      "['– Skills: Fine-Tuning, Pre-training LLMs, Clustering, Scraping, Word2Vec, GPT4 API, Data annotation,\\nCrowdsourcing, Academic writing, Presentation', 'Skills: LDA topic modeling• Data processing• Scraping • Working with APIs• Data visualization', 'using LLMs;\\nsupervised byProf. Dr. Ingmar Weber.Data sources: websites, social media, YouTube', 'from 39% to 92% on a custom dataset\\nSkills: Fine-tuning • Prompt-tuning LLMs• Data collection• UX (Streamlit)• Chatbots • User\\nInteraction planning', 'Skills: Recommendation systems• User interviewing• Data Collection• Streamlit', 'the domains of NLP, Data Science, Societal Computing, and\\nMechanistic Interpretability. I am looking for an internship to gain', 'insight in the industry while working on challenging NLP/AI topics.\\n/mediumMedium', 'Machine Learning\\nLanguages: English (C1)• Russian (native speaker)• German (B2)• Polish (B2)• Kazakh (B1)\\nWork experience', 'Skills: Ridge regression• Bootstrapping • Noise ceiling estimation• Work with fMRI data (reading and\\nlistening) • LLMs', 'Natural Language Processing• Machine Translation• Text Mining and Social Media Mining• Trustworthy\\nMachine Learning']\n",
      "Job description:\n",
      "<p>Gemeinsam als Team entwickeln und betreuen wir Onlineshops für Startups, mittelständische Unternehmen und große Brands.</p>\n",
      "<h2>Aufgaben</h2>\n",
      "<p>Bei uns steht „E-Commerce“ an erster Stelle!</p>\n",
      "<p><strong>Remote:</strong></p>\n",
      "<p>Arbeite von wo immer du möchtest! Wir haben uns von konventionellen Bürostrukturen verabschiedet und setzen auf Remote-Work.</p>\n",
      "<p><strong>Aufgaben:</strong></p>\n",
      "<ul>\n",
      "<li>\n",
      "<p><strong>Eigenverantwortliche Projektumsetzung:</strong></p>\n",
      "</li>\n",
      "<li>\n",
      "<p>Entwicklung und Integration von Webanwendungen mit <strong>NodeJS</strong>, <strong>TypeScript</strong>, <strong>Angular</strong>, und <strong>Next.js</strong>.</p>\n",
      "</li>\n",
      "<li>\n",
      "<p>Optimierung und Erweiterung bestehender Anwendungen, inklusive Frontend und Backend.</p>\n",
      "</li>\n",
      "<li>\n",
      "<p><strong>Umsetzung moderner Designs:</strong></p>\n",
      "</li>\n",
      "<li>\n",
      "<p>Enge Zusammenarbeit mit Designern zur Implementierung von ansprechenden und funktionalen Benutzeroberflächen.</p>\n",
      "</li>\n",
      "<li>\n",
      "<p>Umsetzung von Komponenten und Layouts in <strong>HTML</strong>, <strong>SCSS</strong>, <strong>Typescript</strong> und Frameworks wie Angular und Next.js.</p>\n",
      "</li>\n",
      "<li>\n",
      "<p><strong>Erweiterung und Skalierung:</strong></p>\n",
      "</li>\n",
      "<li>\n",
      "<p>Entwicklung performanter Backend-Funktionen mit NodeJS und TypeScript.</p>\n",
      "</li>\n",
      "<li>\n",
      "<p>Aufbau und Integration von APIs sowie Datenbanken.</p>\n",
      "</li>\n",
      "<li>\n",
      "<p><strong>Testing &#x26; Qualitätssicherung:</strong></p>\n",
      "</li>\n",
      "<li>\n",
      "<p>Durchführung von Unit- und Integrationstests.</p>\n",
      "</li>\n",
      "<li>\n",
      "<p>Sicherstellung von Code-Qualität und Einhaltung moderner Standards.</p>\n",
      "</li>\n",
      "<li>\n",
      "<p><strong>Teamwork &#x26; Projektmanagement:</strong></p>\n",
      "</li>\n",
      "<li>\n",
      "<p>Technische und konzeptionelle Planung von Sprints in enger Zusammenarbeit mit dem Team.</p>\n",
      "</li>\n",
      "<li>\n",
      "<p>Delegation von Arbeitspaketen an interne und externe Entwickler.</p>\n",
      "</li>\n",
      "</ul>\n",
      "<h2>Qualifikation</h2>\n",
      "<ul>\n",
      "<li>Leidenschaft für die Entwicklung moderner Web- und Fullstack-Anwendungen.</li>\n",
      "<li>Fundierte Kenntnisse in <strong>NodeJS, NestJS</strong>, <strong>TypeScript</strong>, <strong>HTML</strong>, <strong>SCSS</strong>, <strong>Tailwind</strong> sowie Frameworks wie <strong>Angular</strong> und <strong>Next.js</strong>.</li>\n",
      "<li>Motivation, sich stetig weiterzuentwickeln und Herausforderungen mit Begeisterung anzugehen.</li>\n",
      "<li>Optional: Erfahrung in der Arbeit mit APIs, Datenbanken und Deployment-Strategien.</li>\n",
      "<li>Deutsch</li>\n",
      "</ul>\n",
      "<h2>Benefits</h2>\n",
      "<ul>\n",
      "<li>Werde Teil einer Shopify Agentur.</li>\n",
      "<li>Flexible Arbeitszeiten und Orte – Vertrauen steht bei uns an erster Stelle!</li>\n",
      "<li>Eigenverantwortliches und unabhängiges Arbeiten.</li>\n",
      "<li>Ein unterstützendes Team, das stets an deiner Seite steht.</li>\n",
      "<li>Attraktive Vergütung.</li>\n",
      "<li>Arbeit mit modernster Technologie.</li>\n",
      "<li>MacBook</li>\n",
      "</ul>\n",
      "<p>Du brennst für cleanen Code, innovative Lösungen und möchtest in einem Umfeld arbeiten, das Kreativität und Eigeninitiative fördert? Bei uns hast du die Chance, spannende Projekte umzusetzen und die Zukunft aktiv mitzugestalten. Wir freuen uns auf deine Bewerbung und darauf, dich kennenzulernen! 🚀</p>\n",
      "<p>Find more <a href=\"https://www.arbeitnow.com/english-speaking-jobs\">English Speaking Jobs in Germany</a> on Arbeitnow</a>\n",
      "Best CV matches:\n",
      "['– Skills: Fine-Tuning, Pre-training LLMs, Clustering, Scraping, Word2Vec, GPT4 API, Data annotation,\\nCrowdsourcing, Academic writing, Presentation', 'Skills: LDA topic modeling• Data processing• Scraping • Working with APIs• Data visualization', 'from 39% to 92% on a custom dataset\\nSkills: Fine-tuning • Prompt-tuning LLMs• Data collection• UX (Streamlit)• Chatbots • User\\nInteraction planning', 'insight in the industry while working on challenging NLP/AI topics.\\n/mediumMedium', 'Crowdsourcing, Academic writing, Presentation\\n•Technical Content Writer July 2022-July 2023\\nHasty.ai (CloudFactory) Berlin, Germany (remote)', 'Work experience\\n•Internship Financial Assets & Solutions Data Analytics November 2024-May 2025\\nMunich RE Munich, Germany', 'the domains of NLP, Data Science, Societal Computing, and\\nMechanistic Interpretability. I am looking for an internship to gain', 'Skills: Recommendation systems• User interviewing• Data Collection• Streamlit', 'Nursulu Sagimbayeva /envel⌢penurs.sagimbayeva@gmail.com\\nMunich/ Saarbrücken, Germany /githubnursaltyn.github.io', 'Skills: Prompt optimization• Data collection• Data visualization• Streamlit']\n",
      "Job description:\n",
      "<p>Du besitzt ausgezeichnete Kommunikationsfähigkeiten und ERP-Systeme sind Deine Heimat?</p>\n",
      "<p>Die Seiwert GmbH bietet kundenorientierte IT-Beratung und Umsetzung auf Basis der anwenderfreundlichen und browserbasierten ERP-Lösung von Myfactory. Dabei profitieren unsere Kunden von 20 Jahren Praxiserfahrung in der Leitung, Begleitung und Umsetzung in über 150 Software-Projekten.</p>\n",
      "<h2>Aufgaben</h2>\n",
      "<p>Du bist ein Problemlöser mit Leidenschaft für Technologie und hast ein gutes Gespür für die Bedürfnisse von kleinen und mittleren Unternehmen? Du möchtest in einem dynamischen Team arbeiten und deine Fähigkeiten in einem abwechslungsreichen Umfeld einsetzen? Dann suchen wir genau dich! </p>\n",
      "<ul>\n",
      "<li>First-Level und Second-Level Support für unsere ERP-Kunden</li>\n",
      "<li>Analyse und Lösung von technischen und fachlichen Problemen im ERP-System</li>\n",
      "<li>Unterstützung bei der Systemeinführung sowie der kontinuierlichen Optimierung bestehender Lösungen</li>\n",
      "<li>Durchführung von SQL-Abfragen zur Fehlerdiagnose und Datenanalyse</li>\n",
      "<li>Beratung und Schulung von Kunden im Umgang mit dem ERP-System</li>\n",
      "<li>Enge Zusammenarbeit mit den Entwicklungsteams zur Weiterentwicklung des Systems</li>\n",
      "</ul>\n",
      "<h2>Qualifikation</h2>\n",
      "<ul>\n",
      "<li>Du sprichst und schreibst fliessend Deutsch – unsere Kunden schätzen eine klare und freundliche Kommunikation</li>\n",
      "<li>Du hast Erfahrungen im Umgang mit ERP-Systemen und der Fehlerbehebung in diesem Bereich</li>\n",
      "<li>SQL-Kenntnisse und ein gutes technisches Verständnis sind für dich kein Fremdwort</li>\n",
      "<li>Du fühlst dich wohl im Umfeld von KMU und hast ein gutes Gespür für die Herausforderungen, die diese mit sich bringen</li>\n",
      "<li>Du arbeitest strukturiert und lösungsorientiert – auch bei komplexen Aufgaben behältst du den Überblick</li>\n",
      "<li>Eine hohe Kundenorientierung sowie Teamgeist runden dein Profil ab</li>\n",
      "</ul>\n",
      "<h2>Benefits</h2>\n",
      "<ul>\n",
      "<li>Abwechslungsreiche Aufgaben in einem zukunftssicheren Unternehmen</li>\n",
      "<li>Flache Hierarchien und kurze Entscheidungswege – deine Ideen zählen und wir sind ein KMU wie unsere Kunden.</li>\n",
      "<li>Ein kollegiales Team, das Spaß an der Arbeit hat und sich gegenseitig unterstützt</li>\n",
      "<li>Die Möglichkeit, mobil zu arbeiten</li>\n",
      "<li>Weiterbildungsmöglichkeiten zur fachlichen und persönlichen Entwicklung </li>\n",
      "<li>Nein, kein Obstkorb (aber im Sommer ist Eis im Froster ;-) ) - dafür andere Benefits wie JobRad, FitnessAbo,...</li>\n",
      "</ul>\n",
      "<p>Dann freuen wir uns auf deine Bewerbung! Schick uns deinen Lebenslauf und ein Motivationsschreiben. </p>\n",
      "<p>Werde Teil unseres Teams und unterstütze uns dabei, unseren Kunden den besten ERP-Support zu bieten!</p>\n",
      "<p>Find <a href=\"https://www.arbeitnow.com/\">Jobs in Germany</a> on Arbeitnow</a>\n",
      "Best CV matches:\n",
      "['insight in the industry while working on challenging NLP/AI topics.\\n/mediumMedium', 'Skills: Recommendation systems• User interviewing• Data Collection• Streamlit', 'Nursulu Sagimbayeva /envel⌢penurs.sagimbayeva@gmail.com\\nMunich/ Saarbrücken, Germany /githubnursaltyn.github.io', 'Machine Learning\\nLanguages: English (C1)• Russian (native speaker)• German (B2)• Polish (B2)• Kazakh (B1)\\nWork experience', '– Skills: Fine-Tuning, Pre-training LLMs, Clustering, Scraping, Word2Vec, GPT4 API, Data annotation,\\nCrowdsourcing, Academic writing, Presentation', 'using LLMs;\\nsupervised byProf. Dr. Ingmar Weber.Data sources: websites, social media, YouTube', 'from 39% to 92% on a custom dataset\\nSkills: Fine-tuning • Prompt-tuning LLMs• Data collection• UX (Streamlit)• Chatbots • User\\nInteraction planning', '•Research Assistant June 2023-present\\nInterdisciplinary Institute of Societal Computing, Saarland Informatik Campus Saarbrücken, Germany', 'the domains of NLP, Data Science, Societal Computing, and\\nMechanistic Interpretability. I am looking for an internship to gain', 'Education\\n•M.Sc. in Natural Language Processing, current GPA: 1.5 (best: 1.0) October 2022-currently\\nSaarland University Saarbrücken, Germany']\n",
      "Job description:\n",
      "<h2>Dein Aufgabengebiet</h2>\n",
      "<ul>\n",
      "<li><strong>Regulatorische Anforderungen im Blick:</strong> Sie überwachen und steuern die Einhaltung aller relevanten Vorschriften für unsere Produkte.</li>\n",
      "<li><strong>Prozesse optimieren &#x26; umsetzen:</strong> Sie verbessern abteilungsübergreifende Abläufe in Verkauf, Einkauf, Produktion und Qualitätsmanagement – sowohl im ERP-System als auch in der Praxis.</li>\n",
      "<li><strong>Ergebnissteuerung &#x26; Budgetplanung:</strong> Sie behalten den wirtschaftlichen Erfolg unserer Produkte im Auge und steuern gezielt Budgets und Ergebnisse.</li>\n",
      "<li><strong>Marketingstrategie mitgestalten:</strong> Sie arbeiten aktiv an der Erstellung und Umsetzung unseres Marketingplans mit.</li>\n",
      "<li>Projektmanagement: Sie übernehmen die Steuerung und Koordination wichtiger Projekte.</li>\n",
      "<li><strong>Wissen vermitteln:</strong> Sie schulen Ihre Kollegen in allen produktbezogenen Fragestellungen und stellen sicher, dass alle Teams bestens informiert sind.</li>\n",
      "</ul>\n",
      "<h2>Dein Hintergrund</h2>\n",
      "<ul>\n",
      "<li><strong>Abteilungsübergreifendes Denken:</strong> Sie verstehen Zusammenhänge zwischen verschiedenen Unternehmensbereichen und handeln entsprechend.</li>\n",
      "<li><strong>Kommunikationsstärke:</strong> Sie können sich klar ausdrücken – idealerweise auch auf Englisch.</li>\n",
      "<li><strong>Eigeninitiative &#x26; Belastbarkeit:</strong> Sie arbeiten selbstständig, sind teamfähig und behalten auch in herausfordernden Situationen den Überblick.</li>\n",
      "<li><strong>Technisches Verständnis:</strong> Sie haben ein gutes Gespür für technische Zusammenhänge und Prozesse.</li>\n",
      "<li><strong>IT-Affinität:</strong> Sicherer Umgang mit Microsoft Office und Offenheit für weitere Softwarelösungen.</li>\n",
      "<li>Regulatorische Expertise: Sie kennen sich mit Qualitätsmanagementsystemen und regulatorischen Anforderungen aus.</li>\n",
      "<li><strong>Fachlicher Hintergrund:</strong> Ein betriebswirtschaftliches oder naturwissenschaftliches Studium ist von Vorteil.</li>\n",
      "</ul>\n",
      "<h2>Deine Benefits</h2>\n",
      "<ul>\n",
      "<li><strong>Unbefristeter Arbeitsvertrag</strong> – Sicherheit und langfristige Perspektiven</li>\n",
      "<li><strong>Flexible Arbeitszeiten</strong> – Für eine gute Work-Life-Balance</li>\n",
      "<li><strong>Modernes Arbeitsumfeld</strong> – Ergonomische Arbeitsplätze und ein dynamisches Team</li>\n",
      "<li><strong>Weiterbildungsmöglichkeiten</strong> – Fachliche und persönliche Entwicklung stehen bei uns im Fokus</li>\n",
      "<li><strong>Mitarbeiterrabatte &#x26; Vergünstigungen</strong> – Profitieren Sie von exklusiven Angeboten</li>\n",
      "<li>Flache Hierarchien &#x26; schnelle Entscheidungswege – Wir setzen auf offene Kommunikation und eine kollegiale Unternehmenskultur</li>\n",
      "<li><strong>Regelmäßige Teamevents</strong> – Weil gemeinsame Erfolge gefeiert werden sollten</li>\n",
      "</ul>\n",
      "<p>Gender-Hinweis</p>\n",
      "<p>Aus Gründen der besseren Lesbarkeit\n",
      "wird auf die gleichzeitige Verwendung\n",
      "der Sprachformen männlich, weiblich\n",
      "und divers (m/w/d) verzichtet.\n",
      "Sämtliche Personenbezeichnungen\n",
      "gelten gleichermaßen für alle\n",
      "Geschlechter.</p>\n",
      "<p>Find <a href=\"https://www.arbeitnow.com/\">Jobs in Germany</a> on Arbeitnow</a>\n",
      "Best CV matches:\n",
      "['Machine Learning\\nLanguages: English (C1)• Russian (native speaker)• German (B2)• Polish (B2)• Kazakh (B1)\\nWork experience', 'Skills: Ridge regression• Bootstrapping • Noise ceiling estimation• Work with fMRI data (reading and\\nlistening) • LLMs', 'from 39% to 92% on a custom dataset\\nSkills: Fine-tuning • Prompt-tuning LLMs• Data collection• UX (Streamlit)• Chatbots • User\\nInteraction planning', '– Skills: Fine-Tuning, Pre-training LLMs, Clustering, Scraping, Word2Vec, GPT4 API, Data annotation,\\nCrowdsourcing, Academic writing, Presentation', 'Skills: LDA topic modeling• Data processing• Scraping • Working with APIs• Data visualization', 'insight in the industry while working on challenging NLP/AI topics.\\n/mediumMedium', '– Participated in projects on investment topics\\n– Skills: LLMs, RAG, PowerBI, Data Analysis Automation, Machine Learning, Capital Markets', 'using LLMs;\\nsupervised byProf. Dr. Ingmar Weber.Data sources: websites, social media, YouTube', 'Skills: Recommendation systems• User interviewing• Data Collection• Streamlit', 'Natural Language Processing• Machine Translation• Text Mining and Social Media Mining• Trustworthy\\nMachine Learning']\n",
      "Job description:\n",
      "<ul>\n",
      "<li>Als unabhängiges Unternehmen leben wir digitale Kultur und sind daher immer für unsere Kunden da, wenn es um Dienstleistungen oder Komplettlösungen aus der IT-Welt geht. Ob Informationssicherheit, Cloud, Rechenzentren oder Anwender-Support: Bei uns kannst du deine Stärken voll ausspielen, denn wir setzen auf das Miteinander und fördern kreative Köpfe. Dank vielfältiger Lerninhalte, der vorteilhaften Kombination aus Theorie und Praxis.</li>\n",
      "<li>Ein junges, lockeres und engagiertes Team mit viel Freiraum für deine eigenen Ideen</li>\n",
      "<li>Flache Hierarchien, offene Türen und kurze Entscheidungswege</li>\n",
      "<li>Intensive Betreuung vom ersten Ausbildungstag bis zur Abschlussprüfung</li>\n",
      "<li>Eine hohe Übernahmequote nach der bestandenen Ausbildung</li>\n",
      "<li>Verschiedene Schulungen, um dein Wissen und deine Soft Skills zu erweitern</li>\n",
      "<li>Förderung von Sport durch Zuschüsse für Fitnessstudios</li>\n",
      "</ul>\n",
      "<h2>Aufgaben</h2>\n",
      "<p><strong>Deine Aufgaben:</strong></p>\n",
      "<p>Du bist immer dann gefragt, wenn es um Netzwerke, Server und PCs geht und entwickelst dich zum Spezialisten für die Planung, den Aufbau und die Administration von individuellen IT-Lösungen für interne oder externe Kunden.</p>\n",
      "<p><strong>Schwerpunkte der Ausbildung:</strong></p>\n",
      "<ul>\n",
      "<li>Inbetriebnahme und Installation von IT und Netzwerksystemen</li>\n",
      "<li>Administrieren und Betreuen von IT-Systemen</li>\n",
      "<li>Mitarbeit bei der Planung und Realisierung kundenspezifischer IT-Lösungen durch Integration von Hard- und Software-Komponenten</li>\n",
      "<li>Selbstständiges Eingrenzen und Beheben auftretender Störungen und Fehler</li>\n",
      "</ul>\n",
      "<h2>Qualifikation</h2>\n",
      "<ul>\n",
      "<li>abgeschlossene Schulbildung mit (Fach-) Hochschulreife oder gutem Realschulabschluss</li>\n",
      "<li>Verständnis für informationstechnische und wirtschaftliche Zusammenhänge</li>\n",
      "<li>Interesse für Datenverarbeitung und Programmiersprachen</li>\n",
      "<li>Begeisterung für Technik</li>\n",
      "<li>hohes Maß an Eigenständigkeit und Engagement</li>\n",
      "<li>Neugierde und Spaß am Lernen</li>\n",
      "<li>gute Deutsch-, Englisch- und Mathematikkenntnisse </li>\n",
      "<li>Du kannst gut im Team arbeiten, bist sorgfältig und diszipliniert</li>\n",
      "</ul>\n",
      "<p>Seit über 30 Jahren verbinden wir erfolgreich Mensch und Arbeit. Unser Fokus ist gegenseitiger Respekt und Wertschätzung sowie Spaß am Arbeitsplatz. Bei uns steht der Kunde im Mittelpunkt.</p>\n",
      "<p>Find more <a href=\"https://www.arbeitnow.com/english-speaking-jobs\">English Speaking Jobs in Germany</a> on Arbeitnow</a>\n",
      "Best CV matches:\n",
      "['Machine Learning\\nLanguages: English (C1)• Russian (native speaker)• German (B2)• Polish (B2)• Kazakh (B1)\\nWork experience', 'Speech\\nSkills: EEG reading• EEG data processing• UI • User Interaction planning\\nActivities\\n–\\nUniversity Open day June 2024', '– Skills: Fine-Tuning, Pre-training LLMs, Clustering, Scraping, Word2Vec, GPT4 API, Data annotation,\\nCrowdsourcing, Academic writing, Presentation', 'from 39% to 92% on a custom dataset\\nSkills: Fine-tuning • Prompt-tuning LLMs• Data collection• UX (Streamlit)• Chatbots • User\\nInteraction planning', 'Skills: LDA topic modeling• Data processing• Scraping • Working with APIs• Data visualization', 'Skills: Ridge regression• Bootstrapping • Noise ceiling estimation• Work with fMRI data (reading and\\nlistening) • LLMs', 'using LLMs;\\nsupervised byProf. Dr. Ingmar Weber.Data sources: websites, social media, YouTube', 'Skills: Recommendation systems• User interviewing• Data Collection• Streamlit', 'the domains of NLP, Data Science, Societal Computing, and\\nMechanistic Interpretability. I am looking for an internship to gain', 'insight in the industry while working on challenging NLP/AI topics.\\n/mediumMedium']\n",
      "Job description:\n",
      "<p>Wir sind ein dynamisches Software-Startup. Wir entwickeln und vertreiben Softwarelösungen für mittelständische Unternehmen. Unser Hauptprodukt ist eine moderne und leistungsfähige Cloud-Software für das Dokumentenmanagement in Unternehmen.</p>\n",
      "<h2>Aufgaben</h2>\n",
      "<p>Aufgabenbereich dieser Stelle ist die attraktive Präsentation unserer Software-Lösung in Form von Homepage-Pflege, Blog-Beiträgen, Newslettern, LinkedIn-Posts und Listings auf Software-Vergleichsportalen. Auch die Pflege der Software-Dokumentation sowie die Bearbeitung von Kunden- und Interessentenanfragen, die Pflege unseres CRM-Systems sowie sonstige Recherche-Aufgaben gehören zum Aufgabenprofil.</p>\n",
      "<h2>Qualifikation</h2>\n",
      "<p>Technisches Verständnis, gute Ausdrucksfähigkeit (auf Deutsch)</p>\n",
      "<h2>Benefits</h2>\n",
      "<ul>\n",
      "<li>Barrierefreier Zugang</li>\n",
      "<li>Berufliche Bildung</li>\n",
      "<li>Entschädigung für Reisekosten</li>\n",
      "<li>Firmenlaptop</li>\n",
      "<li>Flexible Arbeitszeiten</li>\n",
      "<li>Homeoffice</li>\n",
      "<li>Kostenlose Getränke</li>\n",
      "</ul>\n",
      "<p>Wir fördern unsere Werkstudent:innen aktiv mit einem persönlichen Mentor als Ansprechpartner, bieten Weiterbildungsmöglichkeiten und viel Flexibilität in Hinblick auf Arbeitstage und -zeiten.<br>\n",
      "Wir freuen uns auf Deine Bewerbung!</p>\n",
      "<p>Find more <a href=\"https://www.arbeitnow.com/english-speaking-jobs\">English Speaking Jobs in Germany</a> on Arbeitnow</a>\n",
      "Best CV matches:\n",
      "['– Skills: Fine-Tuning, Pre-training LLMs, Clustering, Scraping, Word2Vec, GPT4 API, Data annotation,\\nCrowdsourcing, Academic writing, Presentation', 'Machine Learning\\nLanguages: English (C1)• Russian (native speaker)• German (B2)• Polish (B2)• Kazakh (B1)\\nWork experience', 'from 39% to 92% on a custom dataset\\nSkills: Fine-tuning • Prompt-tuning LLMs• Data collection• UX (Streamlit)• Chatbots • User\\nInteraction planning', 'Skills: LDA topic modeling• Data processing• Scraping • Working with APIs• Data visualization', 'using LLMs;\\nsupervised byProf. Dr. Ingmar Weber.Data sources: websites, social media, YouTube', 'Skills: Recommendation systems• User interviewing• Data Collection• Streamlit', 'Natural Language Processing• Machine Translation• Text Mining and Social Media Mining• Trustworthy\\nMachine Learning', 'Skills: Ridge regression• Bootstrapping • Noise ceiling estimation• Work with fMRI data (reading and\\nlistening) • LLMs', 'Speech\\nSkills: EEG reading• EEG data processing• UI • User Interaction planning\\nActivities\\n–\\nUniversity Open day June 2024', 'plotly, BeautifulSoup, GeoPandas, HTML, CSS;Programming languages: Python, R\\nTools: Git, LaTeX, VSCode, HuggingFace, Docker, PowerBI']\n",
      "Job description:\n",
      "<p>Wir sind ein dynamisches Software-Startup. Wir entwickeln und vertreiben Softwarelösungen für mittelständische Unternehmen. Unser Hauptprodukt ist eine moderne und leistungsfähige Cloud-Software für das Dokumentenmanagement in Unternehmen.</p>\n",
      "<h2>Aufgaben</h2>\n",
      "<p>Wir suchen aktuell Werkstudent:innen, die gemeinsam mit uns unsere aktuellen Projekte zur Nutzung von LLMs (u. a. Llama 2, DeepSeek) in Form von KI-Services in unserer Software weiter vorantreiben. Wir arbeiten aktuell an mehreren KI-Einsatzszenarien und hosten die open-source LLMs selbst auf einer eigenen Infrastruktur.</p>\n",
      "<h2>Qualifikation</h2>\n",
      "<p>Vorkenntnisse in KI-Technologien sind nicht zwingend erforderlich, wir schulen unsere neuen Mitarbeiter selbst. Technisches Verständnis (Informatik, Wirtschaftsinformatik o. ä.) ist natürlich notwendig.</p>\n",
      "<h2>Benefits</h2>\n",
      "<ul>\n",
      "<li>Barrierefreier Zugang</li>\n",
      "<li>Berufliche Bildung</li>\n",
      "<li>Entschädigung für Reisekosten</li>\n",
      "<li>Firmenlaptop</li>\n",
      "<li>Flexible Arbeitszeiten</li>\n",
      "<li>Homeoffice</li>\n",
      "<li>Kostenlose Getränke</li>\n",
      "</ul>\n",
      "<p>Wir bieten außerdem einen persönlichen Mentor als Ansprechpartner, Weiterbildungsmöglichkeiten und viel Flexibilität in Bezug auf Arbeitstage und -zeiträume.</p>\n",
      "<p>Find <a href=\"https://www.arbeitnow.com/\">Jobs in Germany</a> on Arbeitnow</a>\n",
      "Best CV matches:\n",
      "['– Skills: Fine-Tuning, Pre-training LLMs, Clustering, Scraping, Word2Vec, GPT4 API, Data annotation,\\nCrowdsourcing, Academic writing, Presentation', 'from 39% to 92% on a custom dataset\\nSkills: Fine-tuning • Prompt-tuning LLMs• Data collection• UX (Streamlit)• Chatbots • User\\nInteraction planning', 'using LLMs;\\nsupervised byProf. Dr. Ingmar Weber.Data sources: websites, social media, YouTube', 'insight in the industry while working on challenging NLP/AI topics.\\n/mediumMedium', 'the domains of NLP, Data Science, Societal Computing, and\\nMechanistic Interpretability. I am looking for an internship to gain', 'Skills: Ridge regression• Bootstrapping • Noise ceiling estimation• Work with fMRI data (reading and\\nlistening) • LLMs', 'Machine Learning\\nLanguages: English (C1)• Russian (native speaker)• German (B2)• Polish (B2)• Kazakh (B1)\\nWork experience', 'Skills: LDA topic modeling• Data processing• Scraping • Working with APIs• Data visualization', 'Open to relocation /linkedinLinkedIn Profile\\n♂phone+4917674754101\\nProfile: I am a Master’s student in my last year, with background in', '– Participated in projects on investment topics\\n– Skills: LLMs, RAG, PowerBI, Data Analysis Automation, Machine Learning, Capital Markets']\n"
     ]
    }
   ],
   "source": [
    "for i in range(len(top_job_descriptions)):\n",
    "    print('Job description:')\n",
    "    print(top_job_descriptions[i])\n",
    "    print(\"Best CV matches:\")\n",
    "    print(top_cv_matches['documents'][i])"
   ]
  },
  {
   "cell_type": "markdown",
   "id": "89ff6019",
   "metadata": {},
   "source": [
    "### Step 3: call the model and generate the letter."
   ]
  },
  {
   "cell_type": "code",
   "execution_count": 103,
   "id": "1565e3cc",
   "metadata": {},
   "outputs": [],
   "source": [
    "from huggingface_hub import InferenceClient\n",
    "from openai import OpenAI"
   ]
  },
  {
   "cell_type": "code",
   "execution_count": 102,
   "id": "eb64e642",
   "metadata": {},
   "outputs": [],
   "source": [
    "hf_token = \"YOUR_HF_TOKEN\""
   ]
  },
  {
   "cell_type": "code",
   "execution_count": 119,
   "id": "7b41ea96",
   "metadata": {},
   "outputs": [],
   "source": [
    "instruction = '''You are a job application assistant. Your task is, given the job description and highlights from the candidate's CV, write a cover letter tailored to the job description to maximize the chances of the candidate to get an interview invitation.\n",
    "'''"
   ]
  },
  {
   "cell_type": "code",
   "execution_count": 120,
   "id": "a2719b43",
   "metadata": {},
   "outputs": [],
   "source": [
    "content = '''Below is an instruction that describes a task, paired with an input that provides further context. Write a response that appropriately completes the request.\\n\n",
    "\n",
    "### Instruction:\n",
    "  {}\n",
    "\n",
    "  ### Job description:\n",
    "  {}\n",
    "\n",
    "  ### Candidate profile:\n",
    "  {}\n",
    "  \n",
    "  ### Candidate CV highlights:\n",
    "  {}\n",
    "  \n",
    "  ### Response:\n",
    "  '''"
   ]
  },
  {
   "cell_type": "code",
   "execution_count": 121,
   "id": "6f69ba8f",
   "metadata": {},
   "outputs": [],
   "source": [
    "job_to_cover_letter = dict()"
   ]
  },
  {
   "cell_type": "code",
   "execution_count": null,
   "id": "06c7ccbf",
   "metadata": {},
   "outputs": [
    {
     "name": "stderr",
     "output_type": "stream",
     "text": [
      "  0%|          | 0/10 [00:00<?, ?it/s]"
     ]
    },
    {
     "name": "stderr",
     "output_type": "stream",
     "text": [
      "100%|██████████| 10/10 [01:09<00:00,  6.96s/it]\n"
     ]
    }
   ],
   "source": [
    "client = OpenAI(\n",
    "\tbase_url=\"https://api-inference.huggingface.co/v1/\",\n",
    "\tapi_key=\"YOUR_API_KEY\"\n",
    ")\n",
    "\n",
    "for i in tqdm(range(len(top_job_descriptions))):\n",
    "    messages = [\n",
    "        {\n",
    "            \"role\": \"user\",\n",
    "            \"content\": content.format(instruction, job_to_apply_to[i], static_profile_info, str(top_cv_matches['documents'][i]))\n",
    "        }]\n",
    "    \n",
    "    completion = client.chat.completions.create(\n",
    "        model=\"meta-llama/Meta-Llama-3-8B-Instruct\", \n",
    "        messages=messages, \n",
    "    )\n",
    "    \n",
    "    job_to_cover_letter[job_to_apply_to[i]] = completion.choices[0].message.content\n",
    "    with open('model_responses/cover_letters.json', 'w', encoding='utf-8') as file:\n",
    "        json.dump(job_to_cover_letter, file)\n",
    "\n",
    "\t"
   ]
  },
  {
   "cell_type": "code",
   "execution_count": 130,
   "id": "95a119eb",
   "metadata": {},
   "outputs": [
    {
     "data": {
      "text/plain": [
       "\"Dear Hiring Manager,\\n\\nI am excited to apply for the [Job Title] position at CrossCommerce GmbH, as advertised in your company's careers page. With my strong background in Data Science and Analytics, I am confident that I can make a valuable contribution to your team.\\n\\nAs a recent graduate in Master's in Data Science, I developed skills in programming languages such as Python, R, and Java sind mijn strong pointen, together with a solid understanding of Machine Learning algorithms. In my current role as a Data Analyst at XYZ Corporation, I have been working with large datasets, building predictive models, and creating data visualizations to derive insights from the data.\\n\\nI am particularly drawn to this position at CrossCommerce GmbH because of the emphasis on using data-driven insights to drive business decisions. With my experience in data analysis, I believe I can bring a unique perspective to your company and help drive strategic decisions. My CV highlights several projects, including [Project 1], [Project 2], and [Project 3]. These projects not only showcased my technical skills but also demonstrated the ability to work effectively with cross-functional teams, think critically, and communicate complex ideas effectively.\\n\\nI am excited about the opportunity to join CrossCommerce GmbH and contribute to the success of the company. Thank you for considering my application. I look forward to the opportunity to discuss my qualifications in more detail.\""
      ]
     },
     "execution_count": 130,
     "metadata": {},
     "output_type": "execute_result"
    }
   ],
   "source": [
    "completion.choices[0].message.content"
   ]
  },
  {
   "cell_type": "code",
   "execution_count": null,
   "id": "feb3bcf8",
   "metadata": {},
   "outputs": [],
   "source": [
    "# vector_collections.count()"
   ]
  }
 ],
 "metadata": {
  "kernelspec": {
   "display_name": "rag_venv",
   "language": "python",
   "name": "python3"
  },
  "language_info": {
   "codemirror_mode": {
    "name": "ipython",
    "version": 3
   },
   "file_extension": ".py",
   "mimetype": "text/x-python",
   "name": "python",
   "nbconvert_exporter": "python",
   "pygments_lexer": "ipython3",
   "version": "3.11.9"
  }
 },
 "nbformat": 4,
 "nbformat_minor": 5
}
